{
 "cells": [
  {
   "cell_type": "markdown",
   "metadata": {},
   "source": [
    "# Pizza price prediction"
   ]
  },
  {
   "cell_type": "markdown",
   "metadata": {},
   "source": [
    "## Dataset\n"
   ]
  },
  {
   "cell_type": "code",
   "execution_count": 59,
   "metadata": {
    "collapsed": true
   },
   "outputs": [],
   "source": [
    "import pandas as pd\n",
    "import matplotlib.pyplot as plt\n",
    "import numpy as np\n",
    "\n",
    "%matplotlib inline"
   ]
  },
  {
   "cell_type": "code",
   "execution_count": 62,
   "metadata": {
    "collapsed": false
   },
   "outputs": [],
   "source": [
    "# Pizza data creation\n",
    "pizza = pd.DataFrame(data={ 'size':[6,8,10,14,18], 'price':[7,9,13,17.5,18]})"
   ]
  },
  {
   "cell_type": "code",
   "execution_count": 63,
   "metadata": {
    "collapsed": false
   },
   "outputs": [
    {
     "data": {
      "image/png": "[encoded data removed]",
      "text/plain": [
       "<matplotlib.figure.Figure at 0xae5fba8>"
      ]
     },
     "metadata": {},
     "output_type": "display_data"
    }
   ],
   "source": [
    "plt.figure()\n",
    "plt.title('Pizza vs Price')\n",
    "plt.xlabel('Diameter in inches')\n",
    "plt.ylabel('Price in dollars')\n",
    "\n",
    "plt.plot(pizza['size'], pizza['price'], 'm.')\n",
    "plt.axis([0,25,0,25])\n",
    "plt.grid(True)"
   ]
  },
  {
   "cell_type": "markdown",
   "metadata": {},
   "source": [
    "#### Apply Simple Linear Regression of Pizza data to predict prices based on size"
   ]
  },
  {
   "cell_type": "code",
   "execution_count": 64,
   "metadata": {
    "collapsed": true
   },
   "outputs": [],
   "source": [
    "from sklearn.linear_model import LinearRegression"
   ]
  },
  {
   "cell_type": "code",
   "execution_count": 65,
   "metadata": {
    "collapsed": false
   },
   "outputs": [],
   "source": [
    "pizza_price_model = LinearRegression()"
   ]
  },
  {
   "cell_type": "code",
   "execution_count": 79,
   "metadata": {
    "collapsed": false
   },
   "outputs": [
    {
     "data": {
      "text/plain": [
       "LinearRegression(copy_X=True, fit_intercept=True, n_jobs=1, normalize=False)"
      ]
     },
     "execution_count": 79,
     "metadata": {},
     "output_type": "execute_result"
    }
   ],
   "source": [
    "pizza_price_model.fit(pizza[['size']], pizza[['price']])"
   ]
  },
  {
   "cell_type": "code",
   "execution_count": 81,
   "metadata": {
    "collapsed": false
   },
   "outputs": [
    {
     "data": {
      "text/plain": [
       "array([ 13.68103448])"
      ]
     },
     "execution_count": 81,
     "metadata": {},
     "output_type": "execute_result"
    }
   ],
   "source": [
    "pizza_price_model.predict([[12]])[0]"
   ]
  },
  {
   "cell_type": "markdown",
   "metadata": {},
   "source": [
    "### Evaluating the model\n",
    "model.score(X,Y) - Close to 1 means better model"
   ]
  },
  {
   "cell_type": "code",
   "execution_count": 93,
   "metadata": {
    "collapsed": false
   },
   "outputs": [
    {
     "data": {
      "text/plain": [
       "0.59306162081714087"
      ]
     },
     "execution_count": 93,
     "metadata": {},
     "output_type": "execute_result"
    }
   ],
   "source": [
    "test_pizza = pd.DataFrame(data={ 'size':[7,12,15,24,28], 'price':[11,19,23,27.5,28]})\n",
    "pizza_price_model.score(test_pizza[['size']],test_pizza[['price']])"
   ]
  },
  {
   "cell_type": "code",
   "execution_count": 91,
   "metadata": {
    "collapsed": true
   },
   "outputs": [],
   "source": [
    "test_pizza_size = pd.DataFrame(data = {'size': range(10,50,2)})"
   ]
  },
  {
   "cell_type": "code",
   "execution_count": 89,
   "metadata": {
    "collapsed": false
   },
   "outputs": [],
   "source": [
    "test_pizza_price = pizza_price_model.predict(test_pizza)"
   ]
  },
  {
   "cell_type": "code",
   "execution_count": 92,
   "metadata": {
    "collapsed": false
   },
   "outputs": [
    {
     "data": {
      "text/plain": [
       "[<matplotlib.lines.Line2D at 0xc1e7780>]"
      ]
     },
     "execution_count": 92,
     "metadata": {},
     "output_type": "execute_result"
    },
    {
     "data": {
      "image/png": "[encoded data removed]",
      "text/plain": [
       "<matplotlib.figure.Figure at 0xc065cc0>"
      ]
     },
     "metadata": {},
     "output_type": "display_data"
    }
   ],
   "source": [
    "plt.plot(test_pizza_size, test_pizza_price, 'm.')"
   ]
  },
  {
   "cell_type": "markdown",
   "metadata": {},
   "source": [
    "# Multiple Linear Regression\n",
    "\n",
    "1. Improve the model to predict better\n",
    "2. Cost of pizza is impacted by adding toppings\n",
    "3. We need a generalized Simple Linear Regression that can use multiple feature variables or explanatory variables.\n",
    "    <img src=\"http://3.bp.blogspot.com/-N5Rl3a87jgE/UTNCaRNMl3I/AAAAAAAAAcs/nJZVjAEiR3g/s1600/multi+regression+equation.png\"/>"
   ]
  },
  {
   "cell_type": "code",
   "execution_count": 95,
   "metadata": {
    "collapsed": false
   },
   "outputs": [],
   "source": [
    "# Pizza data creation\n",
    "pizza_new = pd.DataFrame(data={ 'size':[6,8,10,14,18], 'toppings':[2,1,0,2,0] , 'price':[7,9,13,17.5,18]})"
   ]
  },
  {
   "cell_type": "code",
   "execution_count": 96,
   "metadata": {
    "collapsed": true
   },
   "outputs": [],
   "source": [
    "pizza_new_model = LinearRegression()"
   ]
  },
  {
   "cell_type": "code",
   "execution_count": 98,
   "metadata": {
    "collapsed": false
   },
   "outputs": [
    {
     "data": {
      "text/plain": [
       "LinearRegression(copy_X=True, fit_intercept=True, n_jobs=1, normalize=False)"
      ]
     },
     "execution_count": 98,
     "metadata": {},
     "output_type": "execute_result"
    }
   ],
   "source": [
    "pizza_new_model.fit(pizza_new[['size','toppings']],pizza_new[['price']])"
   ]
  },
  {
   "cell_type": "code",
   "execution_count": 99,
   "metadata": {
    "collapsed": false
   },
   "outputs": [
    {
     "data": {
      "text/plain": [
       "0.91533779149519889"
      ]
     },
     "execution_count": 99,
     "metadata": {},
     "output_type": "execute_result"
    }
   ],
   "source": [
    "pizza_new_test = pd.DataFrame(data={ 'size':[8,9,11,16,12], 'toppings':[2,0,2,2,0] , 'price':[11,8.5,15,18,11]})\n",
    "pizza_new_model.score(pizza_new[['size','toppings']], pizza_new[['price']])"
   ]
  },
  {
   "cell_type": "markdown",
   "metadata": {},
   "source": [
    "# Polynomial regression\n",
    "1. As of now, the realtionship between explnatory variable & response variable is linear. This may not be always true.\n",
    "2. This is a special case of multiple linear regression.\n",
    "3. This adds terms with degree greater than one.\n",
    "\n",
    "<img src=\"http://www.mathematics-monster.com/images3/quadratic_equation_graph.jpg\">\n",
    "\n",
    "4. We are using only one variable/feature"
   ]
  },
  {
   "cell_type": "code",
   "execution_count": 100,
   "metadata": {
    "collapsed": true
   },
   "outputs": [],
   "source": [
    "from sklearn.preprocessing import PolynomialFeatures"
   ]
  },
  {
   "cell_type": "code",
   "execution_count": 107,
   "metadata": {
    "collapsed": false
   },
   "outputs": [
    {
     "data": {
      "text/html": [
       "<div>\n",
       "<table border=\"1\" class=\"dataframe\">\n",
       "  <thead>\n",
       "    <tr style=\"text-align: right;\">\n",
       "      <th></th>\n",
       "      <th>price</th>\n",
       "      <th>size</th>\n",
       "    </tr>\n",
       "  </thead>\n",
       "  <tbody>\n",
       "    <tr>\n",
       "      <th>0</th>\n",
       "      <td>7.0</td>\n",
       "      <td>6</td>\n",
       "    </tr>\n",
       "    <tr>\n",
       "      <th>1</th>\n",
       "      <td>9.0</td>\n",
       "      <td>8</td>\n",
       "    </tr>\n",
       "    <tr>\n",
       "      <th>2</th>\n",
       "      <td>13.0</td>\n",
       "      <td>10</td>\n",
       "    </tr>\n",
       "    <tr>\n",
       "      <th>3</th>\n",
       "      <td>17.5</td>\n",
       "      <td>14</td>\n",
       "    </tr>\n",
       "    <tr>\n",
       "      <th>4</th>\n",
       "      <td>18.0</td>\n",
       "      <td>18</td>\n",
       "    </tr>\n",
       "  </tbody>\n",
       "</table>\n",
       "</div>"
      ],
      "text/plain": [
       "   price  size\n",
       "0    7.0     6\n",
       "1    9.0     8\n",
       "2   13.0    10\n",
       "3   17.5    14\n",
       "4   18.0    18"
      ]
     },
     "execution_count": 107,
     "metadata": {},
     "output_type": "execute_result"
    }
   ],
   "source": [
    "pizza"
   ]
  },
  {
   "cell_type": "code",
   "execution_count": 109,
   "metadata": {
    "collapsed": false
   },
   "outputs": [],
   "source": [
    "pizza_test = pd.DataFrame(data = {'size':[6,8,11,16], 'price':[8,12,15,18]})"
   ]
  },
  {
   "cell_type": "code",
   "execution_count": 110,
   "metadata": {
    "collapsed": true
   },
   "outputs": [],
   "source": [
    "regressor = LinearRegression()"
   ]
  },
  {
   "cell_type": "code",
   "execution_count": 111,
   "metadata": {
    "collapsed": false
   },
   "outputs": [
    {
     "data": {
      "text/plain": [
       "LinearRegression(copy_X=True, fit_intercept=True, n_jobs=1, normalize=False)"
      ]
     },
     "execution_count": 111,
     "metadata": {},
     "output_type": "execute_result"
    }
   ],
   "source": [
    "regressor.fit(pizza_test[['size']], pizza_test[['price']])"
   ]
  },
  {
   "cell_type": "code",
   "execution_count": 113,
   "metadata": {
    "collapsed": false
   },
   "outputs": [],
   "source": [
    "xx = np.linspace(0,26,100)"
   ]
  },
  {
   "cell_type": "code",
   "execution_count": 118,
   "metadata": {
    "collapsed": false
   },
   "outputs": [
    {
     "data": {
      "text/plain": [
       "array([[  0.        ],\n",
       "       [  0.26262626],\n",
       "       [  0.52525253],\n",
       "       [  0.78787879],\n",
       "       [  1.05050505],\n",
       "       [  1.31313131],\n",
       "       [  1.57575758],\n",
       "       [  1.83838384],\n",
       "       [  2.1010101 ],\n",
       "       [  2.36363636],\n",
       "       [  2.62626263],\n",
       "       [  2.88888889],\n",
       "       [  3.15151515],\n",
       "       [  3.41414141],\n",
       "       [  3.67676768],\n",
       "       [  3.93939394],\n",
       "       [  4.2020202 ],\n",
       "       [  4.46464646],\n",
       "       [  4.72727273],\n",
       "       [  4.98989899],\n",
       "       [  5.25252525],\n",
       "       [  5.51515152],\n",
       "       [  5.77777778],\n",
       "       [  6.04040404],\n",
       "       [  6.3030303 ],\n",
       "       [  6.56565657],\n",
       "       [  6.82828283],\n",
       "       [  7.09090909],\n",
       "       [  7.35353535],\n",
       "       [  7.61616162],\n",
       "       [  7.87878788],\n",
       "       [  8.14141414],\n",
       "       [  8.4040404 ],\n",
       "       [  8.66666667],\n",
       "       [  8.92929293],\n",
       "       [  9.19191919],\n",
       "       [  9.45454545],\n",
       "       [  9.71717172],\n",
       "       [  9.97979798],\n",
       "       [ 10.24242424],\n",
       "       [ 10.50505051],\n",
       "       [ 10.76767677],\n",
       "       [ 11.03030303],\n",
       "       [ 11.29292929],\n",
       "       [ 11.55555556],\n",
       "       [ 11.81818182],\n",
       "       [ 12.08080808],\n",
       "       [ 12.34343434],\n",
       "       [ 12.60606061],\n",
       "       [ 12.86868687],\n",
       "       [ 13.13131313],\n",
       "       [ 13.39393939],\n",
       "       [ 13.65656566],\n",
       "       [ 13.91919192],\n",
       "       [ 14.18181818],\n",
       "       [ 14.44444444],\n",
       "       [ 14.70707071],\n",
       "       [ 14.96969697],\n",
       "       [ 15.23232323],\n",
       "       [ 15.49494949],\n",
       "       [ 15.75757576],\n",
       "       [ 16.02020202],\n",
       "       [ 16.28282828],\n",
       "       [ 16.54545455],\n",
       "       [ 16.80808081],\n",
       "       [ 17.07070707],\n",
       "       [ 17.33333333],\n",
       "       [ 17.5959596 ],\n",
       "       [ 17.85858586],\n",
       "       [ 18.12121212],\n",
       "       [ 18.38383838],\n",
       "       [ 18.64646465],\n",
       "       [ 18.90909091],\n",
       "       [ 19.17171717],\n",
       "       [ 19.43434343],\n",
       "       [ 19.6969697 ],\n",
       "       [ 19.95959596],\n",
       "       [ 20.22222222],\n",
       "       [ 20.48484848],\n",
       "       [ 20.74747475],\n",
       "       [ 21.01010101],\n",
       "       [ 21.27272727],\n",
       "       [ 21.53535354],\n",
       "       [ 21.7979798 ],\n",
       "       [ 22.06060606],\n",
       "       [ 22.32323232],\n",
       "       [ 22.58585859],\n",
       "       [ 22.84848485],\n",
       "       [ 23.11111111],\n",
       "       [ 23.37373737],\n",
       "       [ 23.63636364],\n",
       "       [ 23.8989899 ],\n",
       "       [ 24.16161616],\n",
       "       [ 24.42424242],\n",
       "       [ 24.68686869],\n",
       "       [ 24.94949495],\n",
       "       [ 25.21212121],\n",
       "       [ 25.47474747],\n",
       "       [ 25.73737374],\n",
       "       [ 26.        ]])"
      ]
     },
     "execution_count": 118,
     "metadata": {},
     "output_type": "execute_result"
    }
   ],
   "source": [
    "# Convert into something that fir can understand\n",
    "xx.reshape(xx.shape[0], 1)"
   ]
  },
  {
   "cell_type": "code",
   "execution_count": 121,
   "metadata": {
    "collapsed": false
   },
   "outputs": [],
   "source": [
    "yy = regressor.predict(xx.reshape(xx.shape[0],1))"
   ]
  },
  {
   "cell_type": "code",
   "execution_count": 122,
   "metadata": {
    "collapsed": false
   },
   "outputs": [
    {
     "data": {
      "text/plain": [
       "[<matplotlib.lines.Line2D at 0xc44cb38>]"
      ]
     },
     "execution_count": 122,
     "metadata": {},
     "output_type": "execute_result"
    },
    {
     "data": {
      "image/png": "[encoded data removed]",
      "text/plain": [
       "<matplotlib.figure.Figure at 0xbefd940>"
      ]
     },
     "metadata": {},
     "output_type": "display_data"
    }
   ],
   "source": [
    "plt.plot(xx,yy)"
   ]
  },
  {
   "cell_type": "code",
   "execution_count": 123,
   "metadata": {
    "collapsed": true
   },
   "outputs": [],
   "source": [
    "# Quadtratic Feature\n",
    "quadratic_featureizer = PolynomialFeatures(degree=2)"
   ]
  },
  {
   "cell_type": "code",
   "execution_count": 125,
   "metadata": {
    "collapsed": false
   },
   "outputs": [
    {
     "data": {
      "text/plain": [
       "array([[   1.,    6.,   36.],\n",
       "       [   1.,    8.,   64.],\n",
       "       [   1.,   11.,  121.],\n",
       "       [   1.,   16.,  256.]])"
      ]
     },
     "execution_count": 125,
     "metadata": {},
     "output_type": "execute_result"
    }
   ],
   "source": [
    "quadratic_featureizer.fit_transform(pizza_test[['size']])"
   ]
  },
  {
   "cell_type": "code",
   "execution_count": 137,
   "metadata": {
    "collapsed": false
   },
   "outputs": [
    {
     "name": "stdout",
     "output_type": "stream",
     "text": [
      "Help on method transform in module sklearn.preprocessing.data:\n",
      "\n",
      "transform(self, X, y=None) method of sklearn.preprocessing.data.PolynomialFeatures instance\n",
      "    Transform data to polynomial features\n",
      "    \n",
      "    Parameters\n",
      "    ----------\n",
      "    X : array-like, shape [n_samples, n_features]\n",
      "        The data to transform, row by row.\n",
      "    \n",
      "    Returns\n",
      "    -------\n",
      "    XP : np.ndarray shape [n_samples, NP]\n",
      "        The matrix of features, where NP is the number of polynomial\n",
      "        features generated from the combination of inputs.\n",
      "\n"
     ]
    }
   ],
   "source": [
    "help(quadratic_featureizer.transform)"
   ]
  },
  {
   "cell_type": "code",
   "execution_count": 126,
   "metadata": {
    "collapsed": false
   },
   "outputs": [
    {
     "data": {
      "text/html": [
       "<div>\n",
       "<table border=\"1\" class=\"dataframe\">\n",
       "  <thead>\n",
       "    <tr style=\"text-align: right;\">\n",
       "      <th></th>\n",
       "      <th>size</th>\n",
       "    </tr>\n",
       "  </thead>\n",
       "  <tbody>\n",
       "    <tr>\n",
       "      <th>0</th>\n",
       "      <td>6</td>\n",
       "    </tr>\n",
       "    <tr>\n",
       "      <th>1</th>\n",
       "      <td>8</td>\n",
       "    </tr>\n",
       "    <tr>\n",
       "      <th>2</th>\n",
       "      <td>11</td>\n",
       "    </tr>\n",
       "    <tr>\n",
       "      <th>3</th>\n",
       "      <td>16</td>\n",
       "    </tr>\n",
       "  </tbody>\n",
       "</table>\n",
       "</div>"
      ],
      "text/plain": [
       "   size\n",
       "0     6\n",
       "1     8\n",
       "2    11\n",
       "3    16"
      ]
     },
     "execution_count": 126,
     "metadata": {},
     "output_type": "execute_result"
    }
   ],
   "source": [
    "pizza_test[['size']]"
   ]
  },
  {
   "cell_type": "code",
   "execution_count": 127,
   "metadata": {
    "collapsed": true
   },
   "outputs": [],
   "source": [
    "pizza_train_quad = quadratic_featureizer.fit_transform(pizza[['size']])"
   ]
  },
  {
   "cell_type": "code",
   "execution_count": 128,
   "metadata": {
    "collapsed": true
   },
   "outputs": [],
   "source": [
    "pizza_test_quad = quadratic_featureizer.fit_transform(pizza_test[['size']])"
   ]
  },
  {
   "cell_type": "code",
   "execution_count": 129,
   "metadata": {
    "collapsed": false
   },
   "outputs": [
    {
     "data": {
      "text/plain": [
       "array([[   1.,    6.,   36.],\n",
       "       [   1.,    8.,   64.],\n",
       "       [   1.,   10.,  100.],\n",
       "       [   1.,   14.,  196.],\n",
       "       [   1.,   18.,  324.]])"
      ]
     },
     "execution_count": 129,
     "metadata": {},
     "output_type": "execute_result"
    }
   ],
   "source": [
    "pizza_train_quad"
   ]
  },
  {
   "cell_type": "code",
   "execution_count": 130,
   "metadata": {
    "collapsed": false
   },
   "outputs": [
    {
     "data": {
      "text/plain": [
       "array([[   1.,    6.,   36.],\n",
       "       [   1.,    8.,   64.],\n",
       "       [   1.,   11.,  121.],\n",
       "       [   1.,   16.,  256.]])"
      ]
     },
     "execution_count": 130,
     "metadata": {},
     "output_type": "execute_result"
    }
   ],
   "source": [
    "pizza_test_quad"
   ]
  },
  {
   "cell_type": "code",
   "execution_count": 131,
   "metadata": {
    "collapsed": false
   },
   "outputs": [
    {
     "data": {
      "text/html": [
       "<div>\n",
       "<table border=\"1\" class=\"dataframe\">\n",
       "  <thead>\n",
       "    <tr style=\"text-align: right;\">\n",
       "      <th></th>\n",
       "      <th>price</th>\n",
       "      <th>size</th>\n",
       "    </tr>\n",
       "  </thead>\n",
       "  <tbody>\n",
       "    <tr>\n",
       "      <th>0</th>\n",
       "      <td>7.0</td>\n",
       "      <td>6</td>\n",
       "    </tr>\n",
       "    <tr>\n",
       "      <th>1</th>\n",
       "      <td>9.0</td>\n",
       "      <td>8</td>\n",
       "    </tr>\n",
       "    <tr>\n",
       "      <th>2</th>\n",
       "      <td>13.0</td>\n",
       "      <td>10</td>\n",
       "    </tr>\n",
       "    <tr>\n",
       "      <th>3</th>\n",
       "      <td>17.5</td>\n",
       "      <td>14</td>\n",
       "    </tr>\n",
       "    <tr>\n",
       "      <th>4</th>\n",
       "      <td>18.0</td>\n",
       "      <td>18</td>\n",
       "    </tr>\n",
       "  </tbody>\n",
       "</table>\n",
       "</div>"
      ],
      "text/plain": [
       "   price  size\n",
       "0    7.0     6\n",
       "1    9.0     8\n",
       "2   13.0    10\n",
       "3   17.5    14\n",
       "4   18.0    18"
      ]
     },
     "execution_count": 131,
     "metadata": {},
     "output_type": "execute_result"
    }
   ],
   "source": [
    "pizza"
   ]
  },
  {
   "cell_type": "code",
   "execution_count": 132,
   "metadata": {
    "collapsed": true
   },
   "outputs": [],
   "source": [
    "regressor_quad = LinearRegression()"
   ]
  },
  {
   "cell_type": "code",
   "execution_count": 133,
   "metadata": {
    "collapsed": false
   },
   "outputs": [
    {
     "data": {
      "text/plain": [
       "LinearRegression(copy_X=True, fit_intercept=True, n_jobs=1, normalize=False)"
      ]
     },
     "execution_count": 133,
     "metadata": {},
     "output_type": "execute_result"
    }
   ],
   "source": [
    "regressor_quad.fit(pizza_train_quad, pizza[['price']])"
   ]
  },
  {
   "cell_type": "code",
   "execution_count": 135,
   "metadata": {
    "collapsed": false
   },
   "outputs": [
    {
     "data": {
      "text/plain": [
       "array([[  0.        ],\n",
       "       [  0.26262626],\n",
       "       [  0.52525253],\n",
       "       [  0.78787879],\n",
       "       [  1.05050505],\n",
       "       [  1.31313131],\n",
       "       [  1.57575758],\n",
       "       [  1.83838384],\n",
       "       [  2.1010101 ],\n",
       "       [  2.36363636],\n",
       "       [  2.62626263],\n",
       "       [  2.88888889],\n",
       "       [  3.15151515],\n",
       "       [  3.41414141],\n",
       "       [  3.67676768],\n",
       "       [  3.93939394],\n",
       "       [  4.2020202 ],\n",
       "       [  4.46464646],\n",
       "       [  4.72727273],\n",
       "       [  4.98989899],\n",
       "       [  5.25252525],\n",
       "       [  5.51515152],\n",
       "       [  5.77777778],\n",
       "       [  6.04040404],\n",
       "       [  6.3030303 ],\n",
       "       [  6.56565657],\n",
       "       [  6.82828283],\n",
       "       [  7.09090909],\n",
       "       [  7.35353535],\n",
       "       [  7.61616162],\n",
       "       [  7.87878788],\n",
       "       [  8.14141414],\n",
       "       [  8.4040404 ],\n",
       "       [  8.66666667],\n",
       "       [  8.92929293],\n",
       "       [  9.19191919],\n",
       "       [  9.45454545],\n",
       "       [  9.71717172],\n",
       "       [  9.97979798],\n",
       "       [ 10.24242424],\n",
       "       [ 10.50505051],\n",
       "       [ 10.76767677],\n",
       "       [ 11.03030303],\n",
       "       [ 11.29292929],\n",
       "       [ 11.55555556],\n",
       "       [ 11.81818182],\n",
       "       [ 12.08080808],\n",
       "       [ 12.34343434],\n",
       "       [ 12.60606061],\n",
       "       [ 12.86868687],\n",
       "       [ 13.13131313],\n",
       "       [ 13.39393939],\n",
       "       [ 13.65656566],\n",
       "       [ 13.91919192],\n",
       "       [ 14.18181818],\n",
       "       [ 14.44444444],\n",
       "       [ 14.70707071],\n",
       "       [ 14.96969697],\n",
       "       [ 15.23232323],\n",
       "       [ 15.49494949],\n",
       "       [ 15.75757576],\n",
       "       [ 16.02020202],\n",
       "       [ 16.28282828],\n",
       "       [ 16.54545455],\n",
       "       [ 16.80808081],\n",
       "       [ 17.07070707],\n",
       "       [ 17.33333333],\n",
       "       [ 17.5959596 ],\n",
       "       [ 17.85858586],\n",
       "       [ 18.12121212],\n",
       "       [ 18.38383838],\n",
       "       [ 18.64646465],\n",
       "       [ 18.90909091],\n",
       "       [ 19.17171717],\n",
       "       [ 19.43434343],\n",
       "       [ 19.6969697 ],\n",
       "       [ 19.95959596],\n",
       "       [ 20.22222222],\n",
       "       [ 20.48484848],\n",
       "       [ 20.74747475],\n",
       "       [ 21.01010101],\n",
       "       [ 21.27272727],\n",
       "       [ 21.53535354],\n",
       "       [ 21.7979798 ],\n",
       "       [ 22.06060606],\n",
       "       [ 22.32323232],\n",
       "       [ 22.58585859],\n",
       "       [ 22.84848485],\n",
       "       [ 23.11111111],\n",
       "       [ 23.37373737],\n",
       "       [ 23.63636364],\n",
       "       [ 23.8989899 ],\n",
       "       [ 24.16161616],\n",
       "       [ 24.42424242],\n",
       "       [ 24.68686869],\n",
       "       [ 24.94949495],\n",
       "       [ 25.21212121],\n",
       "       [ 25.47474747],\n",
       "       [ 25.73737374],\n",
       "       [ 26.        ]])"
      ]
     },
     "execution_count": 135,
     "metadata": {},
     "output_type": "execute_result"
    }
   ],
   "source": [
    "xx.reshape(xx.shape[0],1)"
   ]
  },
  {
   "cell_type": "code",
   "execution_count": 142,
   "metadata": {
    "collapsed": false
   },
   "outputs": [
    {
     "data": {
      "text/plain": [
       "0.82884278396271616"
      ]
     },
     "execution_count": 142,
     "metadata": {},
     "output_type": "execute_result"
    }
   ],
   "source": [
    "regressor.score(pizza[['size']],pizza[['price']])"
   ]
  },
  {
   "cell_type": "code",
   "execution_count": 147,
   "metadata": {
    "collapsed": false
   },
   "outputs": [],
   "source": [
    "quadratic_featureizer = PolynomialFeatures(2)"
   ]
  },
  {
   "cell_type": "code",
   "execution_count": 148,
   "metadata": {
    "collapsed": false
   },
   "outputs": [],
   "source": [
    "X_train_quad = quadratic_featureizer.fit_transform(pizza[['size']])"
   ]
  },
  {
   "cell_type": "code",
   "execution_count": 153,
   "metadata": {
    "collapsed": true
   },
   "outputs": [],
   "source": [
    "X_test_quad = quadratic_featureizer.fit_transform(pizza_test[['size']])"
   ]
  },
  {
   "cell_type": "code",
   "execution_count": 154,
   "metadata": {
    "collapsed": true
   },
   "outputs": [],
   "source": [
    "regressor_quad = LinearRegression()"
   ]
  },
  {
   "cell_type": "code",
   "execution_count": 155,
   "metadata": {
    "collapsed": false
   },
   "outputs": [
    {
     "data": {
      "text/plain": [
       "LinearRegression(copy_X=True, fit_intercept=True, n_jobs=1, normalize=False)"
      ]
     },
     "execution_count": 155,
     "metadata": {},
     "output_type": "execute_result"
    }
   ],
   "source": [
    "regressor_quad.fit(X_train_quad,pizza[['price']])"
   ]
  },
  {
   "cell_type": "code",
   "execution_count": 156,
   "metadata": {
    "collapsed": false
   },
   "outputs": [
    {
     "data": {
      "text/plain": [
       "0.86754436563450543"
      ]
     },
     "execution_count": 156,
     "metadata": {},
     "output_type": "execute_result"
    }
   ],
   "source": [
    "regressor_quad.score(X_test_quad, pizza_test[['price']])"
   ]
  },
  {
   "cell_type": "code",
   "execution_count": 167,
   "metadata": {
    "collapsed": false
   },
   "outputs": [
    {
     "data": {
      "text/plain": [
       "array([[  0.        ],\n",
       "       [  0.26262626],\n",
       "       [  0.52525253],\n",
       "       [  0.78787879],\n",
       "       [  1.05050505],\n",
       "       [  1.31313131],\n",
       "       [  1.57575758],\n",
       "       [  1.83838384],\n",
       "       [  2.1010101 ],\n",
       "       [  2.36363636],\n",
       "       [  2.62626263],\n",
       "       [  2.88888889],\n",
       "       [  3.15151515],\n",
       "       [  3.41414141],\n",
       "       [  3.67676768],\n",
       "       [  3.93939394],\n",
       "       [  4.2020202 ],\n",
       "       [  4.46464646],\n",
       "       [  4.72727273],\n",
       "       [  4.98989899],\n",
       "       [  5.25252525],\n",
       "       [  5.51515152],\n",
       "       [  5.77777778],\n",
       "       [  6.04040404],\n",
       "       [  6.3030303 ],\n",
       "       [  6.56565657],\n",
       "       [  6.82828283],\n",
       "       [  7.09090909],\n",
       "       [  7.35353535],\n",
       "       [  7.61616162],\n",
       "       [  7.87878788],\n",
       "       [  8.14141414],\n",
       "       [  8.4040404 ],\n",
       "       [  8.66666667],\n",
       "       [  8.92929293],\n",
       "       [  9.19191919],\n",
       "       [  9.45454545],\n",
       "       [  9.71717172],\n",
       "       [  9.97979798],\n",
       "       [ 10.24242424],\n",
       "       [ 10.50505051],\n",
       "       [ 10.76767677],\n",
       "       [ 11.03030303],\n",
       "       [ 11.29292929],\n",
       "       [ 11.55555556],\n",
       "       [ 11.81818182],\n",
       "       [ 12.08080808],\n",
       "       [ 12.34343434],\n",
       "       [ 12.60606061],\n",
       "       [ 12.86868687],\n",
       "       [ 13.13131313],\n",
       "       [ 13.39393939],\n",
       "       [ 13.65656566],\n",
       "       [ 13.91919192],\n",
       "       [ 14.18181818],\n",
       "       [ 14.44444444],\n",
       "       [ 14.70707071],\n",
       "       [ 14.96969697],\n",
       "       [ 15.23232323],\n",
       "       [ 15.49494949],\n",
       "       [ 15.75757576],\n",
       "       [ 16.02020202],\n",
       "       [ 16.28282828],\n",
       "       [ 16.54545455],\n",
       "       [ 16.80808081],\n",
       "       [ 17.07070707],\n",
       "       [ 17.33333333],\n",
       "       [ 17.5959596 ],\n",
       "       [ 17.85858586],\n",
       "       [ 18.12121212],\n",
       "       [ 18.38383838],\n",
       "       [ 18.64646465],\n",
       "       [ 18.90909091],\n",
       "       [ 19.17171717],\n",
       "       [ 19.43434343],\n",
       "       [ 19.6969697 ],\n",
       "       [ 19.95959596],\n",
       "       [ 20.22222222],\n",
       "       [ 20.48484848],\n",
       "       [ 20.74747475],\n",
       "       [ 21.01010101],\n",
       "       [ 21.27272727],\n",
       "       [ 21.53535354],\n",
       "       [ 21.7979798 ],\n",
       "       [ 22.06060606],\n",
       "       [ 22.32323232],\n",
       "       [ 22.58585859],\n",
       "       [ 22.84848485],\n",
       "       [ 23.11111111],\n",
       "       [ 23.37373737],\n",
       "       [ 23.63636364],\n",
       "       [ 23.8989899 ],\n",
       "       [ 24.16161616],\n",
       "       [ 24.42424242],\n",
       "       [ 24.68686869],\n",
       "       [ 24.94949495],\n",
       "       [ 25.21212121],\n",
       "       [ 25.47474747],\n",
       "       [ 25.73737374],\n",
       "       [ 26.        ]])"
      ]
     },
     "execution_count": 167,
     "metadata": {},
     "output_type": "execute_result"
    }
   ],
   "source": [
    "xx_quad = quadratic_featureizer.fit_transform(xx.reshape(xx.shape[0],1))\n",
    "xx.reshape(xx.shape[0],1)"
   ]
  },
  {
   "cell_type": "code",
   "execution_count": 169,
   "metadata": {
    "collapsed": false
   },
   "outputs": [
    {
     "data": {
      "text/plain": [
       "[<matplotlib.lines.Line2D at 0xc656128>]"
      ]
     },
     "execution_count": 169,
     "metadata": {},
     "output_type": "execute_result"
    },
    {
     "data": {
      "image/png": "[encoded data removed]",
      "text/plain": [
       "<matplotlib.figure.Figure at 0xc656550>"
      ]
     },
     "metadata": {},
     "output_type": "display_data"
    }
   ],
   "source": [
    "plt.plot(xx,regressor_quad.predict(xx_quad), c='r', linestyle= '--')\n",
    "plt.plot(xx,regressor.predict(xx.reshape(xx.shape[0],1)))"
   ]
  },
  {
   "cell_type": "code",
   "execution_count": 164,
   "metadata": {
    "collapsed": false
   },
   "outputs": [
    {
     "data": {
      "text/plain": [
       "0.82884278396271616"
      ]
     },
     "execution_count": 164,
     "metadata": {},
     "output_type": "execute_result"
    }
   ],
   "source": [
    "regressor.score(pizza[['size']], pizza[['price']])"
   ]
  },
  {
   "cell_type": "code",
   "execution_count": null,
   "metadata": {
    "collapsed": true
   },
   "outputs": [],
   "source": []
  }
 ],
 "metadata": {
  "kernelspec": {
   "display_name": "Python [conda env:gl-env]",
   "language": "python",
   "name": "conda-env-gl-env-py"
  },
  "language_info": {
   "codemirror_mode": {
    "name": "ipython",
    "version": 2
   },
   "file_extension": ".py",
   "mimetype": "text/x-python",
   "name": "python",
   "nbconvert_exporter": "python",
   "pygments_lexer": "ipython2",
   "version": "2.7.11"
  }
 },
 "nbformat": 4,
 "nbformat_minor": 1
}
