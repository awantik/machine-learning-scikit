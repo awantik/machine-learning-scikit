{
 "cells": [
  {
   "cell_type": "code",
   "execution_count": 154,
   "metadata": {
    "collapsed": true
   },
   "outputs": [],
   "source": [
    "import pandas as pd"
   ]
  },
  {
   "cell_type": "code",
   "execution_count": 155,
   "metadata": {
    "collapsed": false
   },
   "outputs": [],
   "source": [
    "sales = pd.read_csv(r'D:\\Data\\Predictor_variables_raw.csv')"
   ]
  },
  {
   "cell_type": "markdown",
   "metadata": {},
   "source": [
    "* Varibale Name\tDescription\n",
    "* key\tId varibale\n",
    "* sku\tvegetable name\n",
    "* date\tSale date\n",
    "* sales\tquantity sold\n",
    "* lag_w1_sales\tlast week sales\n",
    "* lag_w2_sales\tlast to last week sales\n",
    "* returns\tcustomer return quantity\n",
    "* lag_1_returns\tprevious day return quantity\n",
    "* mkt_pr\tmarket benchmark price\n",
    "* sale_price\tninjacart sales price\n",
    "* lag1_SP\tninjacart sales prices last day\n",
    "* lag_day1\tlast day sales\n",
    "* lag_day2\tlast to last day sales\n",
    "* skuid\tId variable"
   ]
  },
  {
   "cell_type": "code",
   "execution_count": 156,
   "metadata": {
    "collapsed": false
   },
   "outputs": [
    {
     "data": {
      "text/html": [
       "<div>\n",
       "<table border=\"1\" class=\"dataframe\">\n",
       "  <thead>\n",
       "    <tr style=\"text-align: right;\">\n",
       "      <th></th>\n",
       "      <th>key</th>\n",
       "      <th>sku</th>\n",
       "      <th>date</th>\n",
       "      <th>sales</th>\n",
       "      <th>lag_w1_sales</th>\n",
       "      <th>lag_w2_sales</th>\n",
       "      <th>returns</th>\n",
       "      <th>lag_1_returns</th>\n",
       "      <th>mkt_pr</th>\n",
       "      <th>sale_price</th>\n",
       "      <th>lag1_SP</th>\n",
       "      <th>lag_day1</th>\n",
       "      <th>lag_day2</th>\n",
       "      <th>skuid</th>\n",
       "    </tr>\n",
       "  </thead>\n",
       "  <tbody>\n",
       "    <tr>\n",
       "      <th>0</th>\n",
       "      <td>Coriander_42427</td>\n",
       "      <td>Coriander</td>\n",
       "      <td>2016-02-27</td>\n",
       "      <td>306</td>\n",
       "      <td>538</td>\n",
       "      <td>398</td>\n",
       "      <td>0</td>\n",
       "      <td>20</td>\n",
       "      <td>5</td>\n",
       "      <td>6</td>\n",
       "      <td>6</td>\n",
       "      <td>371</td>\n",
       "      <td>417</td>\n",
       "      <td>69</td>\n",
       "    </tr>\n",
       "    <tr>\n",
       "      <th>1</th>\n",
       "      <td>Coriander_42428</td>\n",
       "      <td>Coriander</td>\n",
       "      <td>2016-02-28</td>\n",
       "      <td>398</td>\n",
       "      <td>428</td>\n",
       "      <td>538</td>\n",
       "      <td>0</td>\n",
       "      <td>0</td>\n",
       "      <td>5</td>\n",
       "      <td>6</td>\n",
       "      <td>6</td>\n",
       "      <td>306</td>\n",
       "      <td>371</td>\n",
       "      <td>69</td>\n",
       "    </tr>\n",
       "    <tr>\n",
       "      <th>2</th>\n",
       "      <td>Coriander_42429</td>\n",
       "      <td>Coriander</td>\n",
       "      <td>2016-02-29</td>\n",
       "      <td>434</td>\n",
       "      <td>500</td>\n",
       "      <td>433</td>\n",
       "      <td>6</td>\n",
       "      <td>0</td>\n",
       "      <td>5</td>\n",
       "      <td>6</td>\n",
       "      <td>6</td>\n",
       "      <td>398</td>\n",
       "      <td>306</td>\n",
       "      <td>69</td>\n",
       "    </tr>\n",
       "    <tr>\n",
       "      <th>3</th>\n",
       "      <td>Coriander_42430</td>\n",
       "      <td>Coriander</td>\n",
       "      <td>2016-03-01</td>\n",
       "      <td>314</td>\n",
       "      <td>405</td>\n",
       "      <td>381</td>\n",
       "      <td>0</td>\n",
       "      <td>6</td>\n",
       "      <td>5</td>\n",
       "      <td>6</td>\n",
       "      <td>6</td>\n",
       "      <td>434</td>\n",
       "      <td>398</td>\n",
       "      <td>69</td>\n",
       "    </tr>\n",
       "    <tr>\n",
       "      <th>4</th>\n",
       "      <td>Coriander_42431</td>\n",
       "      <td>Coriander</td>\n",
       "      <td>2016-03-02</td>\n",
       "      <td>424</td>\n",
       "      <td>446</td>\n",
       "      <td>386</td>\n",
       "      <td>2</td>\n",
       "      <td>0</td>\n",
       "      <td>5</td>\n",
       "      <td>6</td>\n",
       "      <td>6</td>\n",
       "      <td>314</td>\n",
       "      <td>434</td>\n",
       "      <td>69</td>\n",
       "    </tr>\n",
       "  </tbody>\n",
       "</table>\n",
       "</div>"
      ],
      "text/plain": [
       "               key        sku        date  sales  lag_w1_sales  lag_w2_sales  \\\n",
       "0  Coriander_42427  Coriander  2016-02-27    306           538           398   \n",
       "1  Coriander_42428  Coriander  2016-02-28    398           428           538   \n",
       "2  Coriander_42429  Coriander  2016-02-29    434           500           433   \n",
       "3  Coriander_42430  Coriander  2016-03-01    314           405           381   \n",
       "4  Coriander_42431  Coriander  2016-03-02    424           446           386   \n",
       "\n",
       "   returns  lag_1_returns  mkt_pr  sale_price  lag1_SP  lag_day1  lag_day2  \\\n",
       "0        0             20       5           6        6       371       417   \n",
       "1        0              0       5           6        6       306       371   \n",
       "2        6              0       5           6        6       398       306   \n",
       "3        0              6       5           6        6       434       398   \n",
       "4        2              0       5           6        6       314       434   \n",
       "\n",
       "   skuid  \n",
       "0     69  \n",
       "1     69  \n",
       "2     69  \n",
       "3     69  \n",
       "4     69  "
      ]
     },
     "execution_count": 156,
     "metadata": {},
     "output_type": "execute_result"
    }
   ],
   "source": [
    "sales.head()"
   ]
  },
  {
   "cell_type": "code",
   "execution_count": 157,
   "metadata": {
    "collapsed": false
   },
   "outputs": [
    {
     "name": "stdout",
     "output_type": "stream",
     "text": [
      "<class 'pandas.core.frame.DataFrame'>\n",
      "RangeIndex: 195 entries, 0 to 194\n",
      "Data columns (total 14 columns):\n",
      "key              195 non-null object\n",
      "sku              195 non-null object\n",
      "date             195 non-null object\n",
      "sales            195 non-null int64\n",
      "lag_w1_sales     195 non-null int64\n",
      "lag_w2_sales     195 non-null int64\n",
      "returns          195 non-null int64\n",
      "lag_1_returns    195 non-null int64\n",
      "mkt_pr           195 non-null int64\n",
      "sale_price       195 non-null int64\n",
      "lag1_SP          195 non-null int64\n",
      "lag_day1         195 non-null int64\n",
      "lag_day2         195 non-null int64\n",
      "skuid            195 non-null int64\n",
      "dtypes: int64(11), object(3)\n",
      "memory usage: 21.4+ KB\n"
     ]
    }
   ],
   "source": [
    "sales.info()"
   ]
  },
  {
   "cell_type": "code",
   "execution_count": 158,
   "metadata": {
    "collapsed": false
   },
   "outputs": [
    {
     "data": {
      "text/html": [
       "<div>\n",
       "<table border=\"1\" class=\"dataframe\">\n",
       "  <thead>\n",
       "    <tr style=\"text-align: right;\">\n",
       "      <th></th>\n",
       "      <th>sales</th>\n",
       "      <th>lag_w1_sales</th>\n",
       "      <th>lag_w2_sales</th>\n",
       "      <th>returns</th>\n",
       "      <th>lag_1_returns</th>\n",
       "      <th>mkt_pr</th>\n",
       "      <th>sale_price</th>\n",
       "      <th>lag1_SP</th>\n",
       "      <th>lag_day1</th>\n",
       "      <th>lag_day2</th>\n",
       "      <th>skuid</th>\n",
       "    </tr>\n",
       "  </thead>\n",
       "  <tbody>\n",
       "    <tr>\n",
       "      <th>count</th>\n",
       "      <td>195.000000</td>\n",
       "      <td>195.000000</td>\n",
       "      <td>195.000000</td>\n",
       "      <td>195.000000</td>\n",
       "      <td>195.000000</td>\n",
       "      <td>195.000000</td>\n",
       "      <td>195.000000</td>\n",
       "      <td>195.000000</td>\n",
       "      <td>195.000000</td>\n",
       "      <td>195.000000</td>\n",
       "      <td>195.000000</td>\n",
       "    </tr>\n",
       "    <tr>\n",
       "      <th>mean</th>\n",
       "      <td>799.784615</td>\n",
       "      <td>802.287179</td>\n",
       "      <td>783.882051</td>\n",
       "      <td>13.235897</td>\n",
       "      <td>13.897436</td>\n",
       "      <td>21.794872</td>\n",
       "      <td>20.958974</td>\n",
       "      <td>20.584615</td>\n",
       "      <td>798.912821</td>\n",
       "      <td>803.056410</td>\n",
       "      <td>52.800000</td>\n",
       "    </tr>\n",
       "    <tr>\n",
       "      <th>std</th>\n",
       "      <td>590.610513</td>\n",
       "      <td>608.545502</td>\n",
       "      <td>610.746021</td>\n",
       "      <td>23.400937</td>\n",
       "      <td>23.660828</td>\n",
       "      <td>20.982540</td>\n",
       "      <td>20.437694</td>\n",
       "      <td>19.665679</td>\n",
       "      <td>590.820151</td>\n",
       "      <td>598.104585</td>\n",
       "      <td>21.281036</td>\n",
       "    </tr>\n",
       "    <tr>\n",
       "      <th>min</th>\n",
       "      <td>44.000000</td>\n",
       "      <td>97.000000</td>\n",
       "      <td>97.000000</td>\n",
       "      <td>0.000000</td>\n",
       "      <td>0.000000</td>\n",
       "      <td>4.000000</td>\n",
       "      <td>6.000000</td>\n",
       "      <td>6.000000</td>\n",
       "      <td>44.000000</td>\n",
       "      <td>44.000000</td>\n",
       "      <td>31.000000</td>\n",
       "    </tr>\n",
       "    <tr>\n",
       "      <th>25%</th>\n",
       "      <td>292.500000</td>\n",
       "      <td>297.500000</td>\n",
       "      <td>280.500000</td>\n",
       "      <td>1.000000</td>\n",
       "      <td>1.000000</td>\n",
       "      <td>8.000000</td>\n",
       "      <td>7.000000</td>\n",
       "      <td>7.000000</td>\n",
       "      <td>292.500000</td>\n",
       "      <td>290.500000</td>\n",
       "      <td>35.000000</td>\n",
       "    </tr>\n",
       "    <tr>\n",
       "      <th>50%</th>\n",
       "      <td>596.000000</td>\n",
       "      <td>498.000000</td>\n",
       "      <td>442.000000</td>\n",
       "      <td>4.000000</td>\n",
       "      <td>4.000000</td>\n",
       "      <td>14.000000</td>\n",
       "      <td>13.000000</td>\n",
       "      <td>13.000000</td>\n",
       "      <td>569.000000</td>\n",
       "      <td>553.000000</td>\n",
       "      <td>43.000000</td>\n",
       "    </tr>\n",
       "    <tr>\n",
       "      <th>75%</th>\n",
       "      <td>1291.500000</td>\n",
       "      <td>1401.500000</td>\n",
       "      <td>1350.000000</td>\n",
       "      <td>16.000000</td>\n",
       "      <td>16.500000</td>\n",
       "      <td>23.000000</td>\n",
       "      <td>21.000000</td>\n",
       "      <td>21.000000</td>\n",
       "      <td>1287.500000</td>\n",
       "      <td>1311.000000</td>\n",
       "      <td>69.000000</td>\n",
       "    </tr>\n",
       "    <tr>\n",
       "      <th>max</th>\n",
       "      <td>2069.000000</td>\n",
       "      <td>2069.000000</td>\n",
       "      <td>2069.000000</td>\n",
       "      <td>169.000000</td>\n",
       "      <td>169.000000</td>\n",
       "      <td>100.000000</td>\n",
       "      <td>99.000000</td>\n",
       "      <td>95.000000</td>\n",
       "      <td>2069.000000</td>\n",
       "      <td>2069.000000</td>\n",
       "      <td>86.000000</td>\n",
       "    </tr>\n",
       "  </tbody>\n",
       "</table>\n",
       "</div>"
      ],
      "text/plain": [
       "             sales  lag_w1_sales  lag_w2_sales     returns  lag_1_returns  \\\n",
       "count   195.000000    195.000000    195.000000  195.000000     195.000000   \n",
       "mean    799.784615    802.287179    783.882051   13.235897      13.897436   \n",
       "std     590.610513    608.545502    610.746021   23.400937      23.660828   \n",
       "min      44.000000     97.000000     97.000000    0.000000       0.000000   \n",
       "25%     292.500000    297.500000    280.500000    1.000000       1.000000   \n",
       "50%     596.000000    498.000000    442.000000    4.000000       4.000000   \n",
       "75%    1291.500000   1401.500000   1350.000000   16.000000      16.500000   \n",
       "max    2069.000000   2069.000000   2069.000000  169.000000     169.000000   \n",
       "\n",
       "           mkt_pr  sale_price     lag1_SP     lag_day1     lag_day2  \\\n",
       "count  195.000000  195.000000  195.000000   195.000000   195.000000   \n",
       "mean    21.794872   20.958974   20.584615   798.912821   803.056410   \n",
       "std     20.982540   20.437694   19.665679   590.820151   598.104585   \n",
       "min      4.000000    6.000000    6.000000    44.000000    44.000000   \n",
       "25%      8.000000    7.000000    7.000000   292.500000   290.500000   \n",
       "50%     14.000000   13.000000   13.000000   569.000000   553.000000   \n",
       "75%     23.000000   21.000000   21.000000  1287.500000  1311.000000   \n",
       "max    100.000000   99.000000   95.000000  2069.000000  2069.000000   \n",
       "\n",
       "            skuid  \n",
       "count  195.000000  \n",
       "mean    52.800000  \n",
       "std     21.281036  \n",
       "min     31.000000  \n",
       "25%     35.000000  \n",
       "50%     43.000000  \n",
       "75%     69.000000  \n",
       "max     86.000000  "
      ]
     },
     "execution_count": 158,
     "metadata": {},
     "output_type": "execute_result"
    }
   ],
   "source": [
    "sales.describe()"
   ]
  },
  {
   "cell_type": "code",
   "execution_count": 159,
   "metadata": {
    "collapsed": false
   },
   "outputs": [
    {
     "data": {
      "text/plain": [
       "Index([u'key', u'sku', u'date', u'sales', u'lag_w1_sales', u'lag_w2_sales',\n",
       "       u'returns', u'lag_1_returns', u'mkt_pr', u'sale_price', u'lag1_SP',\n",
       "       u'lag_day1', u'lag_day2', u'skuid'],\n",
       "      dtype='object')"
      ]
     },
     "execution_count": 159,
     "metadata": {},
     "output_type": "execute_result"
    }
   ],
   "source": [
    "sales.columns"
   ]
  },
  {
   "cell_type": "code",
   "execution_count": 160,
   "metadata": {
    "collapsed": false
   },
   "outputs": [
    {
     "data": {
      "text/plain": [
       "array(['Coriander', 'Cucumber (Indian)', 'Green peas', 'Potato',\n",
       "       'Tomato (hybrid)'], dtype=object)"
      ]
     },
     "execution_count": 160,
     "metadata": {},
     "output_type": "execute_result"
    }
   ],
   "source": [
    "sales['sku'].unique()"
   ]
  },
  {
   "cell_type": "code",
   "execution_count": 161,
   "metadata": {
    "collapsed": true
   },
   "outputs": [],
   "source": [
    "sales_coriander = sales[sales['sku'] == 'Coriander']"
   ]
  },
  {
   "cell_type": "code",
   "execution_count": 162,
   "metadata": {
    "collapsed": false
   },
   "outputs": [
    {
     "data": {
      "text/html": [
       "<div>\n",
       "<table border=\"1\" class=\"dataframe\">\n",
       "  <thead>\n",
       "    <tr style=\"text-align: right;\">\n",
       "      <th></th>\n",
       "      <th>key</th>\n",
       "      <th>sku</th>\n",
       "      <th>date</th>\n",
       "      <th>sales</th>\n",
       "      <th>lag_w1_sales</th>\n",
       "      <th>lag_w2_sales</th>\n",
       "      <th>returns</th>\n",
       "      <th>lag_1_returns</th>\n",
       "      <th>mkt_pr</th>\n",
       "      <th>sale_price</th>\n",
       "      <th>lag1_SP</th>\n",
       "      <th>lag_day1</th>\n",
       "      <th>lag_day2</th>\n",
       "      <th>skuid</th>\n",
       "    </tr>\n",
       "  </thead>\n",
       "  <tbody>\n",
       "    <tr>\n",
       "      <th>0</th>\n",
       "      <td>Coriander_42427</td>\n",
       "      <td>Coriander</td>\n",
       "      <td>2016-02-27</td>\n",
       "      <td>306</td>\n",
       "      <td>538</td>\n",
       "      <td>398</td>\n",
       "      <td>0</td>\n",
       "      <td>20</td>\n",
       "      <td>5</td>\n",
       "      <td>6</td>\n",
       "      <td>6</td>\n",
       "      <td>371</td>\n",
       "      <td>417</td>\n",
       "      <td>69</td>\n",
       "    </tr>\n",
       "    <tr>\n",
       "      <th>1</th>\n",
       "      <td>Coriander_42428</td>\n",
       "      <td>Coriander</td>\n",
       "      <td>2016-02-28</td>\n",
       "      <td>398</td>\n",
       "      <td>428</td>\n",
       "      <td>538</td>\n",
       "      <td>0</td>\n",
       "      <td>0</td>\n",
       "      <td>5</td>\n",
       "      <td>6</td>\n",
       "      <td>6</td>\n",
       "      <td>306</td>\n",
       "      <td>371</td>\n",
       "      <td>69</td>\n",
       "    </tr>\n",
       "    <tr>\n",
       "      <th>2</th>\n",
       "      <td>Coriander_42429</td>\n",
       "      <td>Coriander</td>\n",
       "      <td>2016-02-29</td>\n",
       "      <td>434</td>\n",
       "      <td>500</td>\n",
       "      <td>433</td>\n",
       "      <td>6</td>\n",
       "      <td>0</td>\n",
       "      <td>5</td>\n",
       "      <td>6</td>\n",
       "      <td>6</td>\n",
       "      <td>398</td>\n",
       "      <td>306</td>\n",
       "      <td>69</td>\n",
       "    </tr>\n",
       "    <tr>\n",
       "      <th>3</th>\n",
       "      <td>Coriander_42430</td>\n",
       "      <td>Coriander</td>\n",
       "      <td>2016-03-01</td>\n",
       "      <td>314</td>\n",
       "      <td>405</td>\n",
       "      <td>381</td>\n",
       "      <td>0</td>\n",
       "      <td>6</td>\n",
       "      <td>5</td>\n",
       "      <td>6</td>\n",
       "      <td>6</td>\n",
       "      <td>434</td>\n",
       "      <td>398</td>\n",
       "      <td>69</td>\n",
       "    </tr>\n",
       "    <tr>\n",
       "      <th>4</th>\n",
       "      <td>Coriander_42431</td>\n",
       "      <td>Coriander</td>\n",
       "      <td>2016-03-02</td>\n",
       "      <td>424</td>\n",
       "      <td>446</td>\n",
       "      <td>386</td>\n",
       "      <td>2</td>\n",
       "      <td>0</td>\n",
       "      <td>5</td>\n",
       "      <td>6</td>\n",
       "      <td>6</td>\n",
       "      <td>314</td>\n",
       "      <td>434</td>\n",
       "      <td>69</td>\n",
       "    </tr>\n",
       "  </tbody>\n",
       "</table>\n",
       "</div>"
      ],
      "text/plain": [
       "               key        sku        date  sales  lag_w1_sales  lag_w2_sales  \\\n",
       "0  Coriander_42427  Coriander  2016-02-27    306           538           398   \n",
       "1  Coriander_42428  Coriander  2016-02-28    398           428           538   \n",
       "2  Coriander_42429  Coriander  2016-02-29    434           500           433   \n",
       "3  Coriander_42430  Coriander  2016-03-01    314           405           381   \n",
       "4  Coriander_42431  Coriander  2016-03-02    424           446           386   \n",
       "\n",
       "   returns  lag_1_returns  mkt_pr  sale_price  lag1_SP  lag_day1  lag_day2  \\\n",
       "0        0             20       5           6        6       371       417   \n",
       "1        0              0       5           6        6       306       371   \n",
       "2        6              0       5           6        6       398       306   \n",
       "3        0              6       5           6        6       434       398   \n",
       "4        2              0       5           6        6       314       434   \n",
       "\n",
       "   skuid  \n",
       "0     69  \n",
       "1     69  \n",
       "2     69  \n",
       "3     69  \n",
       "4     69  "
      ]
     },
     "execution_count": 162,
     "metadata": {},
     "output_type": "execute_result"
    }
   ],
   "source": [
    "sales_coriander.head()"
   ]
  },
  {
   "cell_type": "code",
   "execution_count": 163,
   "metadata": {
    "collapsed": false
   },
   "outputs": [
    {
     "data": {
      "text/plain": [
       "(39, 14)"
      ]
     },
     "execution_count": 163,
     "metadata": {},
     "output_type": "execute_result"
    }
   ],
   "source": [
    "sales_coriander.shape"
   ]
  },
  {
   "cell_type": "code",
   "execution_count": 164,
   "metadata": {
    "collapsed": false
   },
   "outputs": [
    {
     "data": {
      "text/plain": [
       "39"
      ]
     },
     "execution_count": 164,
     "metadata": {},
     "output_type": "execute_result"
    }
   ],
   "source": [
    "len(sales_coriander['date'].unique())"
   ]
  },
  {
   "cell_type": "code",
   "execution_count": 165,
   "metadata": {
    "collapsed": true
   },
   "outputs": [],
   "source": [
    "sales_coriander_sortedByDate = sales_coriander.sort_values('date')"
   ]
  },
  {
   "cell_type": "code",
   "execution_count": 166,
   "metadata": {
    "collapsed": false
   },
   "outputs": [
    {
     "data": {
      "text/html": [
       "<div>\n",
       "<table border=\"1\" class=\"dataframe\">\n",
       "  <thead>\n",
       "    <tr style=\"text-align: right;\">\n",
       "      <th></th>\n",
       "      <th>key</th>\n",
       "      <th>sku</th>\n",
       "      <th>date</th>\n",
       "      <th>sales</th>\n",
       "      <th>lag_w1_sales</th>\n",
       "      <th>lag_w2_sales</th>\n",
       "      <th>returns</th>\n",
       "      <th>lag_1_returns</th>\n",
       "      <th>mkt_pr</th>\n",
       "      <th>sale_price</th>\n",
       "      <th>lag1_SP</th>\n",
       "      <th>lag_day1</th>\n",
       "      <th>lag_day2</th>\n",
       "      <th>skuid</th>\n",
       "    </tr>\n",
       "  </thead>\n",
       "  <tbody>\n",
       "    <tr>\n",
       "      <th>0</th>\n",
       "      <td>Coriander_42427</td>\n",
       "      <td>Coriander</td>\n",
       "      <td>2016-02-27</td>\n",
       "      <td>306</td>\n",
       "      <td>538</td>\n",
       "      <td>398</td>\n",
       "      <td>0</td>\n",
       "      <td>20</td>\n",
       "      <td>5</td>\n",
       "      <td>6</td>\n",
       "      <td>6</td>\n",
       "      <td>371</td>\n",
       "      <td>417</td>\n",
       "      <td>69</td>\n",
       "    </tr>\n",
       "    <tr>\n",
       "      <th>1</th>\n",
       "      <td>Coriander_42428</td>\n",
       "      <td>Coriander</td>\n",
       "      <td>2016-02-28</td>\n",
       "      <td>398</td>\n",
       "      <td>428</td>\n",
       "      <td>538</td>\n",
       "      <td>0</td>\n",
       "      <td>0</td>\n",
       "      <td>5</td>\n",
       "      <td>6</td>\n",
       "      <td>6</td>\n",
       "      <td>306</td>\n",
       "      <td>371</td>\n",
       "      <td>69</td>\n",
       "    </tr>\n",
       "    <tr>\n",
       "      <th>2</th>\n",
       "      <td>Coriander_42429</td>\n",
       "      <td>Coriander</td>\n",
       "      <td>2016-02-29</td>\n",
       "      <td>434</td>\n",
       "      <td>500</td>\n",
       "      <td>433</td>\n",
       "      <td>6</td>\n",
       "      <td>0</td>\n",
       "      <td>5</td>\n",
       "      <td>6</td>\n",
       "      <td>6</td>\n",
       "      <td>398</td>\n",
       "      <td>306</td>\n",
       "      <td>69</td>\n",
       "    </tr>\n",
       "    <tr>\n",
       "      <th>3</th>\n",
       "      <td>Coriander_42430</td>\n",
       "      <td>Coriander</td>\n",
       "      <td>2016-03-01</td>\n",
       "      <td>314</td>\n",
       "      <td>405</td>\n",
       "      <td>381</td>\n",
       "      <td>0</td>\n",
       "      <td>6</td>\n",
       "      <td>5</td>\n",
       "      <td>6</td>\n",
       "      <td>6</td>\n",
       "      <td>434</td>\n",
       "      <td>398</td>\n",
       "      <td>69</td>\n",
       "    </tr>\n",
       "    <tr>\n",
       "      <th>4</th>\n",
       "      <td>Coriander_42431</td>\n",
       "      <td>Coriander</td>\n",
       "      <td>2016-03-02</td>\n",
       "      <td>424</td>\n",
       "      <td>446</td>\n",
       "      <td>386</td>\n",
       "      <td>2</td>\n",
       "      <td>0</td>\n",
       "      <td>5</td>\n",
       "      <td>6</td>\n",
       "      <td>6</td>\n",
       "      <td>314</td>\n",
       "      <td>434</td>\n",
       "      <td>69</td>\n",
       "    </tr>\n",
       "  </tbody>\n",
       "</table>\n",
       "</div>"
      ],
      "text/plain": [
       "               key        sku        date  sales  lag_w1_sales  lag_w2_sales  \\\n",
       "0  Coriander_42427  Coriander  2016-02-27    306           538           398   \n",
       "1  Coriander_42428  Coriander  2016-02-28    398           428           538   \n",
       "2  Coriander_42429  Coriander  2016-02-29    434           500           433   \n",
       "3  Coriander_42430  Coriander  2016-03-01    314           405           381   \n",
       "4  Coriander_42431  Coriander  2016-03-02    424           446           386   \n",
       "\n",
       "   returns  lag_1_returns  mkt_pr  sale_price  lag1_SP  lag_day1  lag_day2  \\\n",
       "0        0             20       5           6        6       371       417   \n",
       "1        0              0       5           6        6       306       371   \n",
       "2        6              0       5           6        6       398       306   \n",
       "3        0              6       5           6        6       434       398   \n",
       "4        2              0       5           6        6       314       434   \n",
       "\n",
       "   skuid  \n",
       "0     69  \n",
       "1     69  \n",
       "2     69  \n",
       "3     69  \n",
       "4     69  "
      ]
     },
     "execution_count": 166,
     "metadata": {},
     "output_type": "execute_result"
    }
   ],
   "source": [
    "sales_coriander_sortedByDate.head()"
   ]
  },
  {
   "cell_type": "code",
   "execution_count": 167,
   "metadata": {
    "collapsed": true
   },
   "outputs": [],
   "source": [
    "import matplotlib.pyplot as plt\n",
    "%matplotlib inline"
   ]
  },
  {
   "cell_type": "code",
   "execution_count": 168,
   "metadata": {
    "collapsed": false
   },
   "outputs": [
    {
     "data": {
      "image/png": "[encoded data removed]",
      "text/plain": [
       "<matplotlib.figure.Figure at 0xb5386d8>"
      ]
     },
     "metadata": {},
     "output_type": "display_data"
    }
   ],
   "source": [
    "plt.plot(sales_coriander_sortedByDate['sales'])\n",
    "plt.show()\n"
   ]
  },
  {
   "cell_type": "code",
   "execution_count": 169,
   "metadata": {
    "collapsed": false
   },
   "outputs": [
    {
     "name": "stdout",
     "output_type": "stream",
     "text": [
      "<class 'pandas.core.window.Rolling'>\n"
     ]
    }
   ],
   "source": [
    "df = pd.DataFrame(data={'marks':[1,2,3,4,5], 'age':[4,5,6,7,8]})\n",
    "r2 = df[['age']].rolling(2)\n",
    "print type(r2)\n",
    "df['mean_age'] =r2.mean()"
   ]
  },
  {
   "cell_type": "code",
   "execution_count": 170,
   "metadata": {
    "collapsed": false
   },
   "outputs": [
    {
     "data": {
      "text/html": [
       "<div>\n",
       "<table border=\"1\" class=\"dataframe\">\n",
       "  <thead>\n",
       "    <tr style=\"text-align: right;\">\n",
       "      <th></th>\n",
       "      <th>age</th>\n",
       "      <th>marks</th>\n",
       "      <th>mean_age</th>\n",
       "    </tr>\n",
       "  </thead>\n",
       "  <tbody>\n",
       "    <tr>\n",
       "      <th>0</th>\n",
       "      <td>4</td>\n",
       "      <td>1</td>\n",
       "      <td>NaN</td>\n",
       "    </tr>\n",
       "    <tr>\n",
       "      <th>1</th>\n",
       "      <td>5</td>\n",
       "      <td>2</td>\n",
       "      <td>4.5</td>\n",
       "    </tr>\n",
       "    <tr>\n",
       "      <th>2</th>\n",
       "      <td>6</td>\n",
       "      <td>3</td>\n",
       "      <td>5.5</td>\n",
       "    </tr>\n",
       "    <tr>\n",
       "      <th>3</th>\n",
       "      <td>7</td>\n",
       "      <td>4</td>\n",
       "      <td>6.5</td>\n",
       "    </tr>\n",
       "    <tr>\n",
       "      <th>4</th>\n",
       "      <td>8</td>\n",
       "      <td>5</td>\n",
       "      <td>7.5</td>\n",
       "    </tr>\n",
       "  </tbody>\n",
       "</table>\n",
       "</div>"
      ],
      "text/plain": [
       "   age  marks  mean_age\n",
       "0    4      1       NaN\n",
       "1    5      2       4.5\n",
       "2    6      3       5.5\n",
       "3    7      4       6.5\n",
       "4    8      5       7.5"
      ]
     },
     "execution_count": 170,
     "metadata": {},
     "output_type": "execute_result"
    }
   ],
   "source": [
    "df"
   ]
  },
  {
   "cell_type": "code",
   "execution_count": 171,
   "metadata": {
    "collapsed": true
   },
   "outputs": [],
   "source": [
    "r2 = sales_coriander_sortedByDate[['sales']].rolling(2)\n",
    "sales_coriander_sortedByDate['mean_sales_2'] = r2.mean()"
   ]
  },
  {
   "cell_type": "code",
   "execution_count": 172,
   "metadata": {
    "collapsed": true
   },
   "outputs": [],
   "source": [
    "r4 = sales_coriander_sortedByDate[['sales']].rolling(4)\n",
    "sales_coriander_sortedByDate['mean_sales_4'] = r4.mean()"
   ]
  },
  {
   "cell_type": "code",
   "execution_count": 173,
   "metadata": {
    "collapsed": false
   },
   "outputs": [],
   "source": [
    "sales_coriander_sortedByDate = sales_coriander_sortedByDate.dropna()"
   ]
  },
  {
   "cell_type": "code",
   "execution_count": 174,
   "metadata": {
    "collapsed": false
   },
   "outputs": [
    {
     "data": {
      "text/plain": [
       "36"
      ]
     },
     "execution_count": 174,
     "metadata": {},
     "output_type": "execute_result"
    }
   ],
   "source": [
    "len(sales_coriander_sortedByDate)"
   ]
  },
  {
   "cell_type": "code",
   "execution_count": 175,
   "metadata": {
    "collapsed": false
   },
   "outputs": [
    {
     "data": {
      "image/png": "[encoded data removed]",
      "text/plain": [
       "<matplotlib.figure.Figure at 0xb644cc0>"
      ]
     },
     "metadata": {},
     "output_type": "display_data"
    }
   ],
   "source": [
    "plt.plot(sales_coriander_sortedByDate['mean_sales_2'])\n",
    "plt.show()"
   ]
  },
  {
   "cell_type": "markdown",
   "metadata": {},
   "source": [
    "* Now, we have to predict next day's sales\n",
    "* The features we take into account for model creation needs to be available to predict so\n",
    "* Many a times, we need to predict the feature values using another models.\n",
    "* For eg. predict return of next day using last_week return etc.\n",
    "* After we have all the feature values to be used for prediction ready, we are all set for our final model "
   ]
  },
  {
   "cell_type": "code",
   "execution_count": 176,
   "metadata": {
    "collapsed": true
   },
   "outputs": [],
   "source": [
    "from sklearn.linear_model import LinearRegression\n",
    "# Creating Linear Regression Model\n",
    "sale_model = LinearRegression()"
   ]
  },
  {
   "cell_type": "code",
   "execution_count": 177,
   "metadata": {
    "collapsed": false
   },
   "outputs": [
    {
     "data": {
      "text/html": [
       "<div>\n",
       "<table border=\"1\" class=\"dataframe\">\n",
       "  <thead>\n",
       "    <tr style=\"text-align: right;\">\n",
       "      <th></th>\n",
       "      <th>key</th>\n",
       "      <th>sku</th>\n",
       "      <th>date</th>\n",
       "      <th>sales</th>\n",
       "      <th>lag_w1_sales</th>\n",
       "      <th>lag_w2_sales</th>\n",
       "      <th>returns</th>\n",
       "      <th>lag_1_returns</th>\n",
       "      <th>mkt_pr</th>\n",
       "      <th>sale_price</th>\n",
       "      <th>lag1_SP</th>\n",
       "      <th>lag_day1</th>\n",
       "      <th>lag_day2</th>\n",
       "      <th>skuid</th>\n",
       "      <th>mean_sales_2</th>\n",
       "      <th>mean_sales_4</th>\n",
       "    </tr>\n",
       "  </thead>\n",
       "  <tbody>\n",
       "    <tr>\n",
       "      <th>3</th>\n",
       "      <td>Coriander_42430</td>\n",
       "      <td>Coriander</td>\n",
       "      <td>2016-03-01</td>\n",
       "      <td>314</td>\n",
       "      <td>405</td>\n",
       "      <td>381</td>\n",
       "      <td>0</td>\n",
       "      <td>6</td>\n",
       "      <td>5</td>\n",
       "      <td>6</td>\n",
       "      <td>6</td>\n",
       "      <td>434</td>\n",
       "      <td>398</td>\n",
       "      <td>69</td>\n",
       "      <td>374.0</td>\n",
       "      <td>363.00</td>\n",
       "    </tr>\n",
       "    <tr>\n",
       "      <th>4</th>\n",
       "      <td>Coriander_42431</td>\n",
       "      <td>Coriander</td>\n",
       "      <td>2016-03-02</td>\n",
       "      <td>424</td>\n",
       "      <td>446</td>\n",
       "      <td>386</td>\n",
       "      <td>2</td>\n",
       "      <td>0</td>\n",
       "      <td>5</td>\n",
       "      <td>6</td>\n",
       "      <td>6</td>\n",
       "      <td>314</td>\n",
       "      <td>434</td>\n",
       "      <td>69</td>\n",
       "      <td>369.0</td>\n",
       "      <td>392.50</td>\n",
       "    </tr>\n",
       "    <tr>\n",
       "      <th>5</th>\n",
       "      <td>Coriander_42432</td>\n",
       "      <td>Coriander</td>\n",
       "      <td>2016-03-03</td>\n",
       "      <td>397</td>\n",
       "      <td>417</td>\n",
       "      <td>343</td>\n",
       "      <td>0</td>\n",
       "      <td>2</td>\n",
       "      <td>5</td>\n",
       "      <td>6</td>\n",
       "      <td>6</td>\n",
       "      <td>424</td>\n",
       "      <td>314</td>\n",
       "      <td>69</td>\n",
       "      <td>410.5</td>\n",
       "      <td>392.25</td>\n",
       "    </tr>\n",
       "    <tr>\n",
       "      <th>6</th>\n",
       "      <td>Coriander_42433</td>\n",
       "      <td>Coriander</td>\n",
       "      <td>2016-03-04</td>\n",
       "      <td>420</td>\n",
       "      <td>371</td>\n",
       "      <td>345</td>\n",
       "      <td>0</td>\n",
       "      <td>0</td>\n",
       "      <td>5</td>\n",
       "      <td>6</td>\n",
       "      <td>6</td>\n",
       "      <td>397</td>\n",
       "      <td>424</td>\n",
       "      <td>69</td>\n",
       "      <td>408.5</td>\n",
       "      <td>388.75</td>\n",
       "    </tr>\n",
       "    <tr>\n",
       "      <th>7</th>\n",
       "      <td>Coriander_42434</td>\n",
       "      <td>Coriander</td>\n",
       "      <td>2016-03-05</td>\n",
       "      <td>422</td>\n",
       "      <td>306</td>\n",
       "      <td>538</td>\n",
       "      <td>5</td>\n",
       "      <td>0</td>\n",
       "      <td>5</td>\n",
       "      <td>6</td>\n",
       "      <td>6</td>\n",
       "      <td>420</td>\n",
       "      <td>397</td>\n",
       "      <td>69</td>\n",
       "      <td>421.0</td>\n",
       "      <td>415.75</td>\n",
       "    </tr>\n",
       "  </tbody>\n",
       "</table>\n",
       "</div>"
      ],
      "text/plain": [
       "               key        sku        date  sales  lag_w1_sales  lag_w2_sales  \\\n",
       "3  Coriander_42430  Coriander  2016-03-01    314           405           381   \n",
       "4  Coriander_42431  Coriander  2016-03-02    424           446           386   \n",
       "5  Coriander_42432  Coriander  2016-03-03    397           417           343   \n",
       "6  Coriander_42433  Coriander  2016-03-04    420           371           345   \n",
       "7  Coriander_42434  Coriander  2016-03-05    422           306           538   \n",
       "\n",
       "   returns  lag_1_returns  mkt_pr  sale_price  lag1_SP  lag_day1  lag_day2  \\\n",
       "3        0              6       5           6        6       434       398   \n",
       "4        2              0       5           6        6       314       434   \n",
       "5        0              2       5           6        6       424       314   \n",
       "6        0              0       5           6        6       397       424   \n",
       "7        5              0       5           6        6       420       397   \n",
       "\n",
       "   skuid  mean_sales_2  mean_sales_4  \n",
       "3     69         374.0        363.00  \n",
       "4     69         369.0        392.50  \n",
       "5     69         410.5        392.25  \n",
       "6     69         408.5        388.75  \n",
       "7     69         421.0        415.75  "
      ]
     },
     "execution_count": 177,
     "metadata": {},
     "output_type": "execute_result"
    }
   ],
   "source": [
    "sales_coriander_sortedByDate.head()"
   ]
  },
  {
   "cell_type": "code",
   "execution_count": 178,
   "metadata": {
    "collapsed": false
   },
   "outputs": [],
   "source": [
    "t = pd.Timestamp('2012-05-02')"
   ]
  },
  {
   "cell_type": "code",
   "execution_count": 179,
   "metadata": {
    "collapsed": false
   },
   "outputs": [
    {
     "data": {
      "text/plain": [
       "datetime.date"
      ]
     },
     "execution_count": 179,
     "metadata": {},
     "output_type": "execute_result"
    }
   ],
   "source": [
    "type(t.date())"
   ]
  },
  {
   "cell_type": "code",
   "execution_count": 180,
   "metadata": {
    "collapsed": false
   },
   "outputs": [
    {
     "data": {
      "text/plain": [
       "1335916800.0"
      ]
     },
     "execution_count": 180,
     "metadata": {},
     "output_type": "execute_result"
    }
   ],
   "source": [
    "(t-datetime.datetime(1970,1,1)).total_seconds()"
   ]
  },
  {
   "cell_type": "code",
   "execution_count": 181,
   "metadata": {
    "collapsed": false
   },
   "outputs": [
    {
     "data": {
      "text/plain": [
       "1335916800.0"
      ]
     },
     "execution_count": 181,
     "metadata": {},
     "output_type": "execute_result"
    }
   ],
   "source": [
    "(t-datetime.datetime(1970,1,1)).total_seconds()"
   ]
  },
  {
   "cell_type": "code",
   "execution_count": 182,
   "metadata": {
    "collapsed": false
   },
   "outputs": [],
   "source": [
    "def f(r):\n",
    "    return (pd.Timestamp(r['date']) - datetime.datetime(1970,1,1)).total_seconds()\n",
    "    \n",
    "sales_coriander_sortedByDate['date_info'] = sales_coriander_sortedByDate.apply(f,axis=1)\n",
    "\n",
    "sales_coriander_sortedByDate['new_date_info'] = sales_coriander_sortedByDate['date'].map(lambda x:(pd.Timestamp(x) - datetime.datetime(1970,1,1)).total_seconds())"
   ]
  },
  {
   "cell_type": "code",
   "execution_count": 183,
   "metadata": {
    "collapsed": false
   },
   "outputs": [
    {
     "data": {
      "text/html": [
       "<div>\n",
       "<table border=\"1\" class=\"dataframe\">\n",
       "  <thead>\n",
       "    <tr style=\"text-align: right;\">\n",
       "      <th></th>\n",
       "      <th>key</th>\n",
       "      <th>sku</th>\n",
       "      <th>date</th>\n",
       "      <th>sales</th>\n",
       "      <th>lag_w1_sales</th>\n",
       "      <th>lag_w2_sales</th>\n",
       "      <th>returns</th>\n",
       "      <th>lag_1_returns</th>\n",
       "      <th>mkt_pr</th>\n",
       "      <th>sale_price</th>\n",
       "      <th>lag1_SP</th>\n",
       "      <th>lag_day1</th>\n",
       "      <th>lag_day2</th>\n",
       "      <th>skuid</th>\n",
       "      <th>mean_sales_2</th>\n",
       "      <th>mean_sales_4</th>\n",
       "      <th>date_info</th>\n",
       "      <th>new_date_info</th>\n",
       "    </tr>\n",
       "  </thead>\n",
       "  <tbody>\n",
       "    <tr>\n",
       "      <th>3</th>\n",
       "      <td>Coriander_42430</td>\n",
       "      <td>Coriander</td>\n",
       "      <td>2016-03-01</td>\n",
       "      <td>314</td>\n",
       "      <td>405</td>\n",
       "      <td>381</td>\n",
       "      <td>0</td>\n",
       "      <td>6</td>\n",
       "      <td>5</td>\n",
       "      <td>6</td>\n",
       "      <td>6</td>\n",
       "      <td>434</td>\n",
       "      <td>398</td>\n",
       "      <td>69</td>\n",
       "      <td>374.0</td>\n",
       "      <td>363.00</td>\n",
       "      <td>1.456790e+09</td>\n",
       "      <td>1.456790e+09</td>\n",
       "    </tr>\n",
       "    <tr>\n",
       "      <th>4</th>\n",
       "      <td>Coriander_42431</td>\n",
       "      <td>Coriander</td>\n",
       "      <td>2016-03-02</td>\n",
       "      <td>424</td>\n",
       "      <td>446</td>\n",
       "      <td>386</td>\n",
       "      <td>2</td>\n",
       "      <td>0</td>\n",
       "      <td>5</td>\n",
       "      <td>6</td>\n",
       "      <td>6</td>\n",
       "      <td>314</td>\n",
       "      <td>434</td>\n",
       "      <td>69</td>\n",
       "      <td>369.0</td>\n",
       "      <td>392.50</td>\n",
       "      <td>1.456877e+09</td>\n",
       "      <td>1.456877e+09</td>\n",
       "    </tr>\n",
       "    <tr>\n",
       "      <th>5</th>\n",
       "      <td>Coriander_42432</td>\n",
       "      <td>Coriander</td>\n",
       "      <td>2016-03-03</td>\n",
       "      <td>397</td>\n",
       "      <td>417</td>\n",
       "      <td>343</td>\n",
       "      <td>0</td>\n",
       "      <td>2</td>\n",
       "      <td>5</td>\n",
       "      <td>6</td>\n",
       "      <td>6</td>\n",
       "      <td>424</td>\n",
       "      <td>314</td>\n",
       "      <td>69</td>\n",
       "      <td>410.5</td>\n",
       "      <td>392.25</td>\n",
       "      <td>1.456963e+09</td>\n",
       "      <td>1.456963e+09</td>\n",
       "    </tr>\n",
       "    <tr>\n",
       "      <th>6</th>\n",
       "      <td>Coriander_42433</td>\n",
       "      <td>Coriander</td>\n",
       "      <td>2016-03-04</td>\n",
       "      <td>420</td>\n",
       "      <td>371</td>\n",
       "      <td>345</td>\n",
       "      <td>0</td>\n",
       "      <td>0</td>\n",
       "      <td>5</td>\n",
       "      <td>6</td>\n",
       "      <td>6</td>\n",
       "      <td>397</td>\n",
       "      <td>424</td>\n",
       "      <td>69</td>\n",
       "      <td>408.5</td>\n",
       "      <td>388.75</td>\n",
       "      <td>1.457050e+09</td>\n",
       "      <td>1.457050e+09</td>\n",
       "    </tr>\n",
       "    <tr>\n",
       "      <th>7</th>\n",
       "      <td>Coriander_42434</td>\n",
       "      <td>Coriander</td>\n",
       "      <td>2016-03-05</td>\n",
       "      <td>422</td>\n",
       "      <td>306</td>\n",
       "      <td>538</td>\n",
       "      <td>5</td>\n",
       "      <td>0</td>\n",
       "      <td>5</td>\n",
       "      <td>6</td>\n",
       "      <td>6</td>\n",
       "      <td>420</td>\n",
       "      <td>397</td>\n",
       "      <td>69</td>\n",
       "      <td>421.0</td>\n",
       "      <td>415.75</td>\n",
       "      <td>1.457136e+09</td>\n",
       "      <td>1.457136e+09</td>\n",
       "    </tr>\n",
       "  </tbody>\n",
       "</table>\n",
       "</div>"
      ],
      "text/plain": [
       "               key        sku        date  sales  lag_w1_sales  lag_w2_sales  \\\n",
       "3  Coriander_42430  Coriander  2016-03-01    314           405           381   \n",
       "4  Coriander_42431  Coriander  2016-03-02    424           446           386   \n",
       "5  Coriander_42432  Coriander  2016-03-03    397           417           343   \n",
       "6  Coriander_42433  Coriander  2016-03-04    420           371           345   \n",
       "7  Coriander_42434  Coriander  2016-03-05    422           306           538   \n",
       "\n",
       "   returns  lag_1_returns  mkt_pr  sale_price  lag1_SP  lag_day1  lag_day2  \\\n",
       "3        0              6       5           6        6       434       398   \n",
       "4        2              0       5           6        6       314       434   \n",
       "5        0              2       5           6        6       424       314   \n",
       "6        0              0       5           6        6       397       424   \n",
       "7        5              0       5           6        6       420       397   \n",
       "\n",
       "   skuid  mean_sales_2  mean_sales_4     date_info  new_date_info  \n",
       "3     69         374.0        363.00  1.456790e+09   1.456790e+09  \n",
       "4     69         369.0        392.50  1.456877e+09   1.456877e+09  \n",
       "5     69         410.5        392.25  1.456963e+09   1.456963e+09  \n",
       "6     69         408.5        388.75  1.457050e+09   1.457050e+09  \n",
       "7     69         421.0        415.75  1.457136e+09   1.457136e+09  "
      ]
     },
     "execution_count": 183,
     "metadata": {},
     "output_type": "execute_result"
    }
   ],
   "source": [
    "sales_coriander_sortedByDate.head()"
   ]
  },
  {
   "cell_type": "code",
   "execution_count": 123,
   "metadata": {
    "collapsed": false
   },
   "outputs": [
    {
     "data": {
      "text/plain": [
       "LinearRegression(copy_X=True, fit_intercept=True, n_jobs=1, normalize=False)"
      ]
     },
     "execution_count": 123,
     "metadata": {},
     "output_type": "execute_result"
    }
   ],
   "source": [
    "sale_model.fit(sales_coriander_sortedByDate[['date_info','mean_sales_2']], sales_coriander_sortedByDate['sales'])"
   ]
  },
  {
   "cell_type": "code",
   "execution_count": 124,
   "metadata": {
    "collapsed": false
   },
   "outputs": [
    {
     "data": {
      "text/html": [
       "<div>\n",
       "<table border=\"1\" class=\"dataframe\">\n",
       "  <thead>\n",
       "    <tr style=\"text-align: right;\">\n",
       "      <th></th>\n",
       "      <th>key</th>\n",
       "      <th>sku</th>\n",
       "      <th>date</th>\n",
       "      <th>sales</th>\n",
       "      <th>lag_w1_sales</th>\n",
       "      <th>lag_w2_sales</th>\n",
       "      <th>returns</th>\n",
       "      <th>lag_1_returns</th>\n",
       "      <th>mkt_pr</th>\n",
       "      <th>sale_price</th>\n",
       "      <th>lag1_SP</th>\n",
       "      <th>lag_day1</th>\n",
       "      <th>lag_day2</th>\n",
       "      <th>skuid</th>\n",
       "      <th>mean_sales_2</th>\n",
       "      <th>mean_sales_4</th>\n",
       "      <th>date_info</th>\n",
       "    </tr>\n",
       "  </thead>\n",
       "  <tbody>\n",
       "    <tr>\n",
       "      <th>34</th>\n",
       "      <td>Coriander_42461</td>\n",
       "      <td>Coriander</td>\n",
       "      <td>2016-04-01</td>\n",
       "      <td>940</td>\n",
       "      <td>650</td>\n",
       "      <td>670</td>\n",
       "      <td>17</td>\n",
       "      <td>3</td>\n",
       "      <td>12</td>\n",
       "      <td>6</td>\n",
       "      <td>6</td>\n",
       "      <td>921</td>\n",
       "      <td>982</td>\n",
       "      <td>69</td>\n",
       "      <td>930.5</td>\n",
       "      <td>941.75</td>\n",
       "      <td>1.459469e+09</td>\n",
       "    </tr>\n",
       "    <tr>\n",
       "      <th>35</th>\n",
       "      <td>Coriander_42462</td>\n",
       "      <td>Coriander</td>\n",
       "      <td>2016-04-02</td>\n",
       "      <td>1077</td>\n",
       "      <td>815</td>\n",
       "      <td>630</td>\n",
       "      <td>0</td>\n",
       "      <td>17</td>\n",
       "      <td>10</td>\n",
       "      <td>6</td>\n",
       "      <td>6</td>\n",
       "      <td>940</td>\n",
       "      <td>921</td>\n",
       "      <td>69</td>\n",
       "      <td>1008.5</td>\n",
       "      <td>980.00</td>\n",
       "      <td>1.459555e+09</td>\n",
       "    </tr>\n",
       "    <tr>\n",
       "      <th>36</th>\n",
       "      <td>Coriander_42463</td>\n",
       "      <td>Coriander</td>\n",
       "      <td>2016-04-03</td>\n",
       "      <td>1144</td>\n",
       "      <td>908</td>\n",
       "      <td>724</td>\n",
       "      <td>0</td>\n",
       "      <td>0</td>\n",
       "      <td>12</td>\n",
       "      <td>6</td>\n",
       "      <td>6</td>\n",
       "      <td>1077</td>\n",
       "      <td>940</td>\n",
       "      <td>69</td>\n",
       "      <td>1110.5</td>\n",
       "      <td>1020.50</td>\n",
       "      <td>1.459642e+09</td>\n",
       "    </tr>\n",
       "    <tr>\n",
       "      <th>37</th>\n",
       "      <td>Coriander_42464</td>\n",
       "      <td>Coriander</td>\n",
       "      <td>2016-04-04</td>\n",
       "      <td>929</td>\n",
       "      <td>887</td>\n",
       "      <td>671</td>\n",
       "      <td>4</td>\n",
       "      <td>0</td>\n",
       "      <td>10</td>\n",
       "      <td>6</td>\n",
       "      <td>6</td>\n",
       "      <td>1144</td>\n",
       "      <td>1077</td>\n",
       "      <td>69</td>\n",
       "      <td>1036.5</td>\n",
       "      <td>1022.50</td>\n",
       "      <td>1.459728e+09</td>\n",
       "    </tr>\n",
       "    <tr>\n",
       "      <th>38</th>\n",
       "      <td>Coriander_42465</td>\n",
       "      <td>Coriander</td>\n",
       "      <td>2016-04-05</td>\n",
       "      <td>940</td>\n",
       "      <td>924</td>\n",
       "      <td>699</td>\n",
       "      <td>0</td>\n",
       "      <td>4</td>\n",
       "      <td>18</td>\n",
       "      <td>6</td>\n",
       "      <td>6</td>\n",
       "      <td>929</td>\n",
       "      <td>1144</td>\n",
       "      <td>69</td>\n",
       "      <td>934.5</td>\n",
       "      <td>1022.50</td>\n",
       "      <td>1.459814e+09</td>\n",
       "    </tr>\n",
       "  </tbody>\n",
       "</table>\n",
       "</div>"
      ],
      "text/plain": [
       "                key        sku        date  sales  lag_w1_sales  lag_w2_sales  \\\n",
       "34  Coriander_42461  Coriander  2016-04-01    940           650           670   \n",
       "35  Coriander_42462  Coriander  2016-04-02   1077           815           630   \n",
       "36  Coriander_42463  Coriander  2016-04-03   1144           908           724   \n",
       "37  Coriander_42464  Coriander  2016-04-04    929           887           671   \n",
       "38  Coriander_42465  Coriander  2016-04-05    940           924           699   \n",
       "\n",
       "    returns  lag_1_returns  mkt_pr  sale_price  lag1_SP  lag_day1  lag_day2  \\\n",
       "34       17              3      12           6        6       921       982   \n",
       "35        0             17      10           6        6       940       921   \n",
       "36        0              0      12           6        6      1077       940   \n",
       "37        4              0      10           6        6      1144      1077   \n",
       "38        0              4      18           6        6       929      1144   \n",
       "\n",
       "    skuid  mean_sales_2  mean_sales_4     date_info  \n",
       "34     69         930.5        941.75  1.459469e+09  \n",
       "35     69        1008.5        980.00  1.459555e+09  \n",
       "36     69        1110.5       1020.50  1.459642e+09  \n",
       "37     69        1036.5       1022.50  1.459728e+09  \n",
       "38     69         934.5       1022.50  1.459814e+09  "
      ]
     },
     "execution_count": 124,
     "metadata": {},
     "output_type": "execute_result"
    }
   ],
   "source": [
    "sales_coriander_sortedByDate.tail()"
   ]
  },
  {
   "cell_type": "code",
   "execution_count": 125,
   "metadata": {
    "collapsed": true
   },
   "outputs": [],
   "source": [
    "t = pd.Timestamp('2016-04-06')"
   ]
  },
  {
   "cell_type": "code",
   "execution_count": 126,
   "metadata": {
    "collapsed": false
   },
   "outputs": [
    {
     "data": {
      "text/plain": [
       "1459900800.0"
      ]
     },
     "execution_count": 126,
     "metadata": {},
     "output_type": "execute_result"
    }
   ],
   "source": [
    "(t-datetime.datetime(1970,1,1)).total_seconds()"
   ]
  },
  {
   "cell_type": "code",
   "execution_count": 128,
   "metadata": {
    "collapsed": false
   },
   "outputs": [
    {
     "data": {
      "text/plain": [
       "934.5"
      ]
     },
     "execution_count": 128,
     "metadata": {},
     "output_type": "execute_result"
    }
   ],
   "source": [
    "(929+940) /2.0"
   ]
  },
  {
   "cell_type": "markdown",
   "metadata": {},
   "source": [
    "### Find the best model among all by evaluating against test data set"
   ]
  },
  {
   "cell_type": "code",
   "execution_count": 129,
   "metadata": {
    "collapsed": false
   },
   "outputs": [
    {
     "data": {
      "text/plain": [
       "array([ 946.31313827])"
      ]
     },
     "execution_count": 129,
     "metadata": {},
     "output_type": "execute_result"
    }
   ],
   "source": [
    "sale_model.predict([[1459900800.0,934]])"
   ]
  },
  {
   "cell_type": "code",
   "execution_count": 132,
   "metadata": {
    "collapsed": false
   },
   "outputs": [
    {
     "data": {
      "text/plain": [
       "0.97305865802349345"
      ]
     },
     "execution_count": 132,
     "metadata": {},
     "output_type": "execute_result"
    }
   ],
   "source": [
    "# Ideally, i should be running this on seperate training dataset, but here i m using same test dataset\n",
    "# Should have broken down, data into two parts - train & test. Use train in fit & test for score\n",
    "sale_model.score(sales_coriander_sortedByDate[['date_info','mean_sales_2']], sales_coriander_sortedByDate['sales'])"
   ]
  },
  {
   "cell_type": "code",
   "execution_count": 133,
   "metadata": {
    "collapsed": true
   },
   "outputs": [],
   "source": [
    "import numpy as np"
   ]
  },
  {
   "cell_type": "code",
   "execution_count": 142,
   "metadata": {
    "collapsed": false
   },
   "outputs": [],
   "source": [
    "#sales_coriander_sortedByDate['sales']\n",
    "# get the same stuff for potato"
   ]
  },
  {
   "cell_type": "code",
   "execution_count": 139,
   "metadata": {
    "collapsed": false
   },
   "outputs": [
    {
     "data": {
      "text/plain": [
       "array([200, 199, 198, 197, 196, 195, 194, 193, 192, 191, 190, 189, 188,\n",
       "       187, 186, 185, 184, 183, 182, 181, 180, 179, 178, 177, 176, 175,\n",
       "       174, 173, 172, 171, 170, 169, 168, 167, 166, 165, 164, 163, 162,\n",
       "       161, 160, 159, 158, 157, 156, 155, 154, 153, 152, 151, 150, 149,\n",
       "       148, 147, 146, 145, 144, 143, 142, 141, 140, 139, 138, 137, 136,\n",
       "       135, 134, 133, 132, 131, 130, 129, 128, 127, 126, 125, 124, 123,\n",
       "       122, 121, 120, 119, 118, 117, 116, 115, 114, 113, 112, 111, 110,\n",
       "       109, 108, 107, 106, 105, 104, 103, 102, 101])"
      ]
     },
     "execution_count": 139,
     "metadata": {},
     "output_type": "execute_result"
    }
   ],
   "source": [
    "#Find corelation betweeen sale of potato and coriander, if the value is high\n",
    "#This means, sale of coriander is related to sale of potato\n",
    "#Covert the 'sku' to multiple columns potato | ...."
   ]
  },
  {
   "cell_type": "code",
   "execution_count": 146,
   "metadata": {
    "collapsed": false
   },
   "outputs": [],
   "source": [
    "def f(r):\n",
    "    if r['sku'] == 'Coriander':\n",
    "        return 1\n",
    "    else:\n",
    "        return 0\n",
    "sales['is_coriander'] = sales.apply(f,axis=1)"
   ]
  },
  {
   "cell_type": "code",
   "execution_count": 147,
   "metadata": {
    "collapsed": false
   },
   "outputs": [
    {
     "data": {
      "text/html": [
       "<div>\n",
       "<table border=\"1\" class=\"dataframe\">\n",
       "  <thead>\n",
       "    <tr style=\"text-align: right;\">\n",
       "      <th></th>\n",
       "      <th>key</th>\n",
       "      <th>sku</th>\n",
       "      <th>date</th>\n",
       "      <th>sales</th>\n",
       "      <th>lag_w1_sales</th>\n",
       "      <th>lag_w2_sales</th>\n",
       "      <th>returns</th>\n",
       "      <th>lag_1_returns</th>\n",
       "      <th>mkt_pr</th>\n",
       "      <th>sale_price</th>\n",
       "      <th>lag1_SP</th>\n",
       "      <th>lag_day1</th>\n",
       "      <th>lag_day2</th>\n",
       "      <th>skuid</th>\n",
       "      <th>is_coriander</th>\n",
       "    </tr>\n",
       "  </thead>\n",
       "  <tbody>\n",
       "    <tr>\n",
       "      <th>0</th>\n",
       "      <td>Coriander_42427</td>\n",
       "      <td>Coriander</td>\n",
       "      <td>2016-02-27</td>\n",
       "      <td>306</td>\n",
       "      <td>538</td>\n",
       "      <td>398</td>\n",
       "      <td>0</td>\n",
       "      <td>20</td>\n",
       "      <td>5</td>\n",
       "      <td>6</td>\n",
       "      <td>6</td>\n",
       "      <td>371</td>\n",
       "      <td>417</td>\n",
       "      <td>69</td>\n",
       "      <td>1</td>\n",
       "    </tr>\n",
       "    <tr>\n",
       "      <th>1</th>\n",
       "      <td>Coriander_42428</td>\n",
       "      <td>Coriander</td>\n",
       "      <td>2016-02-28</td>\n",
       "      <td>398</td>\n",
       "      <td>428</td>\n",
       "      <td>538</td>\n",
       "      <td>0</td>\n",
       "      <td>0</td>\n",
       "      <td>5</td>\n",
       "      <td>6</td>\n",
       "      <td>6</td>\n",
       "      <td>306</td>\n",
       "      <td>371</td>\n",
       "      <td>69</td>\n",
       "      <td>1</td>\n",
       "    </tr>\n",
       "    <tr>\n",
       "      <th>2</th>\n",
       "      <td>Coriander_42429</td>\n",
       "      <td>Coriander</td>\n",
       "      <td>2016-02-29</td>\n",
       "      <td>434</td>\n",
       "      <td>500</td>\n",
       "      <td>433</td>\n",
       "      <td>6</td>\n",
       "      <td>0</td>\n",
       "      <td>5</td>\n",
       "      <td>6</td>\n",
       "      <td>6</td>\n",
       "      <td>398</td>\n",
       "      <td>306</td>\n",
       "      <td>69</td>\n",
       "      <td>1</td>\n",
       "    </tr>\n",
       "    <tr>\n",
       "      <th>3</th>\n",
       "      <td>Coriander_42430</td>\n",
       "      <td>Coriander</td>\n",
       "      <td>2016-03-01</td>\n",
       "      <td>314</td>\n",
       "      <td>405</td>\n",
       "      <td>381</td>\n",
       "      <td>0</td>\n",
       "      <td>6</td>\n",
       "      <td>5</td>\n",
       "      <td>6</td>\n",
       "      <td>6</td>\n",
       "      <td>434</td>\n",
       "      <td>398</td>\n",
       "      <td>69</td>\n",
       "      <td>1</td>\n",
       "    </tr>\n",
       "    <tr>\n",
       "      <th>4</th>\n",
       "      <td>Coriander_42431</td>\n",
       "      <td>Coriander</td>\n",
       "      <td>2016-03-02</td>\n",
       "      <td>424</td>\n",
       "      <td>446</td>\n",
       "      <td>386</td>\n",
       "      <td>2</td>\n",
       "      <td>0</td>\n",
       "      <td>5</td>\n",
       "      <td>6</td>\n",
       "      <td>6</td>\n",
       "      <td>314</td>\n",
       "      <td>434</td>\n",
       "      <td>69</td>\n",
       "      <td>1</td>\n",
       "    </tr>\n",
       "  </tbody>\n",
       "</table>\n",
       "</div>"
      ],
      "text/plain": [
       "               key        sku        date  sales  lag_w1_sales  lag_w2_sales  \\\n",
       "0  Coriander_42427  Coriander  2016-02-27    306           538           398   \n",
       "1  Coriander_42428  Coriander  2016-02-28    398           428           538   \n",
       "2  Coriander_42429  Coriander  2016-02-29    434           500           433   \n",
       "3  Coriander_42430  Coriander  2016-03-01    314           405           381   \n",
       "4  Coriander_42431  Coriander  2016-03-02    424           446           386   \n",
       "\n",
       "   returns  lag_1_returns  mkt_pr  sale_price  lag1_SP  lag_day1  lag_day2  \\\n",
       "0        0             20       5           6        6       371       417   \n",
       "1        0              0       5           6        6       306       371   \n",
       "2        6              0       5           6        6       398       306   \n",
       "3        0              6       5           6        6       434       398   \n",
       "4        2              0       5           6        6       314       434   \n",
       "\n",
       "   skuid  is_coriander  \n",
       "0     69             1  \n",
       "1     69             1  \n",
       "2     69             1  \n",
       "3     69             1  \n",
       "4     69             1  "
      ]
     },
     "execution_count": 147,
     "metadata": {},
     "output_type": "execute_result"
    }
   ],
   "source": [
    "sales.head()"
   ]
  },
  {
   "cell_type": "code",
   "execution_count": 153,
   "metadata": {
    "collapsed": false
   },
   "outputs": [
    {
     "name": "stdout",
     "output_type": "stream",
     "text": [
      "Help on method apply in module pandas.core.frame:\n",
      "\n",
      "apply(self, func, axis=0, broadcast=False, raw=False, reduce=None, args=(), **kwds) method of pandas.core.frame.DataFrame instance\n",
      "    Applies function along input axis of DataFrame.\n",
      "    \n",
      "    Objects passed to functions are Series objects having index\n",
      "    either the DataFrame's index (axis=0) or the columns (axis=1).\n",
      "    Return type depends on whether passed function aggregates, or the\n",
      "    reduce argument if the DataFrame is empty.\n",
      "    \n",
      "    Parameters\n",
      "    ----------\n",
      "    func : function\n",
      "        Function to apply to each column/row\n",
      "    axis : {0 or 'index', 1 or 'columns'}, default 0\n",
      "        * 0 or 'index': apply function to each column\n",
      "        * 1 or 'columns': apply function to each row\n",
      "    broadcast : boolean, default False\n",
      "        For aggregation functions, return object of same size with values\n",
      "        propagated\n",
      "    raw : boolean, default False\n",
      "        If False, convert each row or column into a Series. If raw=True the\n",
      "        passed function will receive ndarray objects instead. If you are\n",
      "        just applying a NumPy reduction function this will achieve much\n",
      "        better performance\n",
      "    reduce : boolean or None, default None\n",
      "        Try to apply reduction procedures. If the DataFrame is empty,\n",
      "        apply will use reduce to determine whether the result should be a\n",
      "        Series or a DataFrame. If reduce is None (the default), apply's\n",
      "        return value will be guessed by calling func an empty Series (note:\n",
      "        while guessing, exceptions raised by func will be ignored). If\n",
      "        reduce is True a Series will always be returned, and if False a\n",
      "        DataFrame will always be returned.\n",
      "    args : tuple\n",
      "        Positional arguments to pass to function in addition to the\n",
      "        array/series\n",
      "    Additional keyword arguments will be passed as keywords to the function\n",
      "    \n",
      "    Notes\n",
      "    -----\n",
      "    In the current implementation apply calls func twice on the\n",
      "    first column/row to decide whether it can take a fast or slow\n",
      "    code path. This can lead to unexpected behavior if func has\n",
      "    side-effects, as they will take effect twice for the first\n",
      "    column/row.\n",
      "    \n",
      "    Examples\n",
      "    --------\n",
      "    >>> df.apply(numpy.sqrt) # returns DataFrame\n",
      "    >>> df.apply(numpy.sum, axis=0) # equiv to df.sum(0)\n",
      "    >>> df.apply(numpy.sum, axis=1) # equiv to df.sum(1)\n",
      "    \n",
      "    See also\n",
      "    --------\n",
      "    DataFrame.applymap: For elementwise operations\n",
      "    \n",
      "    Returns\n",
      "    -------\n",
      "    applied : Series or DataFrame\n",
      "\n"
     ]
    }
   ],
   "source": [
    "help(sales_coriander_sortedByDate.apply)"
   ]
  },
  {
   "cell_type": "code",
   "execution_count": null,
   "metadata": {
    "collapsed": true
   },
   "outputs": [],
   "source": []
  }
 ],
 "metadata": {
  "kernelspec": {
   "display_name": "Python [conda env:gl-env]",
   "language": "python",
   "name": "conda-env-gl-env-py"
  },
  "language_info": {
   "codemirror_mode": {
    "name": "ipython",
    "version": 2
   },
   "file_extension": ".py",
   "mimetype": "text/x-python",
   "name": "python",
   "nbconvert_exporter": "python",
   "pygments_lexer": "ipython2",
   "version": "2.7.11"
  }
 },
 "nbformat": 4,
 "nbformat_minor": 1
}
